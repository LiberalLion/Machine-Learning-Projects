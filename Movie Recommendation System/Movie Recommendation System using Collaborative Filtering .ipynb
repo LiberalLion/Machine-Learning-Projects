{
 "cells": [
  {
   "cell_type": "markdown",
   "id": "6beec982",
   "metadata": {},
   "source": [
    "# Movie Recommendation System with Collaborative Filtering\n",
    "In this project I used the **collaborative filtering** method to create a movie recommendation system based on user ratings of a particular movie."
   ]
  },
  {
   "cell_type": "markdown",
   "id": "15d7f4b7",
   "metadata": {},
   "source": [
    "Import the required libraries"
   ]
  },
  {
   "cell_type": "code",
   "execution_count": 1,
   "id": "0055e29b",
   "metadata": {},
   "outputs": [],
   "source": [
    "import pandas as pd"
   ]
  },
  {
   "cell_type": "code",
   "execution_count": 3,
   "id": "060b768e",
   "metadata": {},
   "outputs": [
    {
     "data": {
      "text/html": [
       "<div>\n",
       "<style scoped>\n",
       "    .dataframe tbody tr th:only-of-type {\n",
       "        vertical-align: middle;\n",
       "    }\n",
       "\n",
       "    .dataframe tbody tr th {\n",
       "        vertical-align: top;\n",
       "    }\n",
       "\n",
       "    .dataframe thead th {\n",
       "        text-align: right;\n",
       "    }\n",
       "</style>\n",
       "<table border=\"1\" class=\"dataframe\">\n",
       "  <thead>\n",
       "    <tr style=\"text-align: right;\">\n",
       "      <th></th>\n",
       "      <th>Avengers</th>\n",
       "      <th>The_Incredibles</th>\n",
       "      <th>The_Lion_King</th>\n",
       "      <th>Dumbo</th>\n",
       "      <th>Frozen</th>\n",
       "      <th>Ponyo</th>\n",
       "    </tr>\n",
       "  </thead>\n",
       "  <tbody>\n",
       "    <tr>\n",
       "      <th>user 1</th>\n",
       "      <td>4.0</td>\n",
       "      <td>5.0</td>\n",
       "      <td>3.0</td>\n",
       "      <td>NaN</td>\n",
       "      <td>2.0</td>\n",
       "      <td>1.0</td>\n",
       "    </tr>\n",
       "    <tr>\n",
       "      <th>user 2</th>\n",
       "      <td>5.0</td>\n",
       "      <td>3.0</td>\n",
       "      <td>3.0</td>\n",
       "      <td>2.0</td>\n",
       "      <td>2.0</td>\n",
       "      <td>NaN</td>\n",
       "    </tr>\n",
       "    <tr>\n",
       "      <th>user 3</th>\n",
       "      <td>1.0</td>\n",
       "      <td>NaN</td>\n",
       "      <td>NaN</td>\n",
       "      <td>4.0</td>\n",
       "      <td>5.0</td>\n",
       "      <td>4.0</td>\n",
       "    </tr>\n",
       "    <tr>\n",
       "      <th>user 4</th>\n",
       "      <td>NaN</td>\n",
       "      <td>2.0</td>\n",
       "      <td>1.0</td>\n",
       "      <td>4.0</td>\n",
       "      <td>NaN</td>\n",
       "      <td>3.0</td>\n",
       "    </tr>\n",
       "    <tr>\n",
       "      <th>user 5</th>\n",
       "      <td>1.0</td>\n",
       "      <td>NaN</td>\n",
       "      <td>2.0</td>\n",
       "      <td>3.0</td>\n",
       "      <td>3.0</td>\n",
       "      <td>4.0</td>\n",
       "    </tr>\n",
       "  </tbody>\n",
       "</table>\n",
       "</div>"
      ],
      "text/plain": [
       "        Avengers  The_Incredibles  The_Lion_King  Dumbo  Frozen  Ponyo\n",
       "user 1       4.0              5.0            3.0    NaN     2.0    1.0\n",
       "user 2       5.0              3.0            3.0    2.0     2.0    NaN\n",
       "user 3       1.0              NaN            NaN    4.0     5.0    4.0\n",
       "user 4       NaN              2.0            1.0    4.0     NaN    3.0\n",
       "user 5       1.0              NaN            2.0    3.0     3.0    4.0"
      ]
     },
     "execution_count": 3,
     "metadata": {},
     "output_type": "execute_result"
    }
   ],
   "source": [
    "ratings = pd.read_csv('ratings.csv', index_col = 0) We set the index column to the first column at index 0\n",
    "ratings.head()"
   ]
  },
  {
   "cell_type": "markdown",
   "id": "dc1b030d",
   "metadata": {},
   "source": [
    "There are NaN values meaning that that the user did not rate that particular movie so we change the NaN to 0."
   ]
  },
  {
   "cell_type": "code",
   "execution_count": 5,
   "id": "3b2e10c9",
   "metadata": {},
   "outputs": [
    {
     "data": {
      "text/html": [
       "<div>\n",
       "<style scoped>\n",
       "    .dataframe tbody tr th:only-of-type {\n",
       "        vertical-align: middle;\n",
       "    }\n",
       "\n",
       "    .dataframe tbody tr th {\n",
       "        vertical-align: top;\n",
       "    }\n",
       "\n",
       "    .dataframe thead th {\n",
       "        text-align: right;\n",
       "    }\n",
       "</style>\n",
       "<table border=\"1\" class=\"dataframe\">\n",
       "  <thead>\n",
       "    <tr style=\"text-align: right;\">\n",
       "      <th></th>\n",
       "      <th>Avengers</th>\n",
       "      <th>The_Incredibles</th>\n",
       "      <th>The_Lion_King</th>\n",
       "      <th>Dumbo</th>\n",
       "      <th>Frozen</th>\n",
       "      <th>Ponyo</th>\n",
       "    </tr>\n",
       "  </thead>\n",
       "  <tbody>\n",
       "    <tr>\n",
       "      <th>user 1</th>\n",
       "      <td>4.0</td>\n",
       "      <td>5.0</td>\n",
       "      <td>3.0</td>\n",
       "      <td>0.0</td>\n",
       "      <td>2.0</td>\n",
       "      <td>1.0</td>\n",
       "    </tr>\n",
       "    <tr>\n",
       "      <th>user 2</th>\n",
       "      <td>5.0</td>\n",
       "      <td>3.0</td>\n",
       "      <td>3.0</td>\n",
       "      <td>2.0</td>\n",
       "      <td>2.0</td>\n",
       "      <td>0.0</td>\n",
       "    </tr>\n",
       "    <tr>\n",
       "      <th>user 3</th>\n",
       "      <td>1.0</td>\n",
       "      <td>0.0</td>\n",
       "      <td>0.0</td>\n",
       "      <td>4.0</td>\n",
       "      <td>5.0</td>\n",
       "      <td>4.0</td>\n",
       "    </tr>\n",
       "    <tr>\n",
       "      <th>user 4</th>\n",
       "      <td>0.0</td>\n",
       "      <td>2.0</td>\n",
       "      <td>1.0</td>\n",
       "      <td>4.0</td>\n",
       "      <td>0.0</td>\n",
       "      <td>3.0</td>\n",
       "    </tr>\n",
       "    <tr>\n",
       "      <th>user 5</th>\n",
       "      <td>1.0</td>\n",
       "      <td>0.0</td>\n",
       "      <td>2.0</td>\n",
       "      <td>3.0</td>\n",
       "      <td>3.0</td>\n",
       "      <td>4.0</td>\n",
       "    </tr>\n",
       "  </tbody>\n",
       "</table>\n",
       "</div>"
      ],
      "text/plain": [
       "        Avengers  The_Incredibles  The_Lion_King  Dumbo  Frozen  Ponyo\n",
       "user 1       4.0              5.0            3.0    0.0     2.0    1.0\n",
       "user 2       5.0              3.0            3.0    2.0     2.0    0.0\n",
       "user 3       1.0              0.0            0.0    4.0     5.0    4.0\n",
       "user 4       0.0              2.0            1.0    4.0     0.0    3.0\n",
       "user 5       1.0              0.0            2.0    3.0     3.0    4.0"
      ]
     },
     "execution_count": 5,
     "metadata": {},
     "output_type": "execute_result"
    }
   ],
   "source": [
    "ratings = ratings.fillna(0)\n",
    "ratings.head()"
   ]
  },
  {
   "cell_type": "markdown",
   "id": "a83a6c68",
   "metadata": {},
   "source": [
    "We need to standardize the ratings because even though a user did not rate a movie it doesn't mean the movie has a score of 0. So the best thing is to standardize the rating scores with the function below."
   ]
  },
  {
   "cell_type": "code",
   "execution_count": 8,
   "id": "5972511b",
   "metadata": {},
   "outputs": [
    {
     "data": {
      "text/html": [
       "<div>\n",
       "<style scoped>\n",
       "    .dataframe tbody tr th:only-of-type {\n",
       "        vertical-align: middle;\n",
       "    }\n",
       "\n",
       "    .dataframe tbody tr th {\n",
       "        vertical-align: top;\n",
       "    }\n",
       "\n",
       "    .dataframe thead th {\n",
       "        text-align: right;\n",
       "    }\n",
       "</style>\n",
       "<table border=\"1\" class=\"dataframe\">\n",
       "  <thead>\n",
       "    <tr style=\"text-align: right;\">\n",
       "      <th></th>\n",
       "      <th>Avengers</th>\n",
       "      <th>The_Incredibles</th>\n",
       "      <th>The_Lion_King</th>\n",
       "      <th>Dumbo</th>\n",
       "      <th>Frozen</th>\n",
       "      <th>Ponyo</th>\n",
       "    </tr>\n",
       "  </thead>\n",
       "  <tbody>\n",
       "    <tr>\n",
       "      <th>user 1</th>\n",
       "      <td>0.36</td>\n",
       "      <td>0.6</td>\n",
       "      <td>0.400000</td>\n",
       "      <td>-0.65</td>\n",
       "      <td>-0.08</td>\n",
       "      <td>-0.35</td>\n",
       "    </tr>\n",
       "    <tr>\n",
       "      <th>user 2</th>\n",
       "      <td>0.56</td>\n",
       "      <td>0.2</td>\n",
       "      <td>0.400000</td>\n",
       "      <td>-0.15</td>\n",
       "      <td>-0.08</td>\n",
       "      <td>-0.60</td>\n",
       "    </tr>\n",
       "    <tr>\n",
       "      <th>user 3</th>\n",
       "      <td>-0.24</td>\n",
       "      <td>-0.4</td>\n",
       "      <td>-0.600000</td>\n",
       "      <td>0.35</td>\n",
       "      <td>0.52</td>\n",
       "      <td>0.40</td>\n",
       "    </tr>\n",
       "    <tr>\n",
       "      <th>user 4</th>\n",
       "      <td>-0.44</td>\n",
       "      <td>0.0</td>\n",
       "      <td>-0.266667</td>\n",
       "      <td>0.35</td>\n",
       "      <td>-0.48</td>\n",
       "      <td>0.15</td>\n",
       "    </tr>\n",
       "    <tr>\n",
       "      <th>user 5</th>\n",
       "      <td>-0.24</td>\n",
       "      <td>-0.4</td>\n",
       "      <td>0.066667</td>\n",
       "      <td>0.10</td>\n",
       "      <td>0.12</td>\n",
       "      <td>0.40</td>\n",
       "    </tr>\n",
       "  </tbody>\n",
       "</table>\n",
       "</div>"
      ],
      "text/plain": [
       "        Avengers  The_Incredibles  The_Lion_King  Dumbo  Frozen  Ponyo\n",
       "user 1      0.36              0.6       0.400000  -0.65   -0.08  -0.35\n",
       "user 2      0.56              0.2       0.400000  -0.15   -0.08  -0.60\n",
       "user 3     -0.24             -0.4      -0.600000   0.35    0.52   0.40\n",
       "user 4     -0.44              0.0      -0.266667   0.35   -0.48   0.15\n",
       "user 5     -0.24             -0.4       0.066667   0.10    0.12   0.40"
      ]
     },
     "execution_count": 8,
     "metadata": {},
     "output_type": "execute_result"
    }
   ],
   "source": [
    "def standardize(row):\n",
    "    new_row = (row-row.mean())/(row.max()-row.min())\n",
    "    return new_row\n",
    "\n",
    "ratings_std = ratings.apply(standardize)\n",
    "ratings_std"
   ]
  },
  {
   "cell_type": "code",
   "execution_count": 9,
   "id": "a15420f9",
   "metadata": {},
   "outputs": [],
   "source": [
    "from sklearn.metrics.pairwise import cosine_similarity\n"
   ]
  },
  {
   "cell_type": "markdown",
   "id": "2d38f063",
   "metadata": {},
   "source": [
    "The function imported above calculates the similarity of values row wise using the cosine method."
   ]
  },
  {
   "cell_type": "code",
   "execution_count": 28,
   "id": "e16553db",
   "metadata": {},
   "outputs": [
    {
     "data": {
      "text/html": [
       "<div>\n",
       "<style scoped>\n",
       "    .dataframe tbody tr th:only-of-type {\n",
       "        vertical-align: middle;\n",
       "    }\n",
       "\n",
       "    .dataframe tbody tr th {\n",
       "        vertical-align: top;\n",
       "    }\n",
       "\n",
       "    .dataframe thead th {\n",
       "        text-align: right;\n",
       "    }\n",
       "</style>\n",
       "<table border=\"1\" class=\"dataframe\">\n",
       "  <thead>\n",
       "    <tr style=\"text-align: right;\">\n",
       "      <th></th>\n",
       "      <th>Avengers</th>\n",
       "      <th>The_Incredibles</th>\n",
       "      <th>The_Lion_King</th>\n",
       "      <th>Dumbo</th>\n",
       "      <th>Frozen</th>\n",
       "      <th>Ponyo</th>\n",
       "    </tr>\n",
       "  </thead>\n",
       "  <tbody>\n",
       "    <tr>\n",
       "      <th>user 1</th>\n",
       "      <td>0.36</td>\n",
       "      <td>0.6</td>\n",
       "      <td>0.400000</td>\n",
       "      <td>-0.65</td>\n",
       "      <td>-0.08</td>\n",
       "      <td>-0.35</td>\n",
       "    </tr>\n",
       "    <tr>\n",
       "      <th>user 2</th>\n",
       "      <td>0.56</td>\n",
       "      <td>0.2</td>\n",
       "      <td>0.400000</td>\n",
       "      <td>-0.15</td>\n",
       "      <td>-0.08</td>\n",
       "      <td>-0.60</td>\n",
       "    </tr>\n",
       "    <tr>\n",
       "      <th>user 3</th>\n",
       "      <td>-0.24</td>\n",
       "      <td>-0.4</td>\n",
       "      <td>-0.600000</td>\n",
       "      <td>0.35</td>\n",
       "      <td>0.52</td>\n",
       "      <td>0.40</td>\n",
       "    </tr>\n",
       "    <tr>\n",
       "      <th>user 4</th>\n",
       "      <td>-0.44</td>\n",
       "      <td>0.0</td>\n",
       "      <td>-0.266667</td>\n",
       "      <td>0.35</td>\n",
       "      <td>-0.48</td>\n",
       "      <td>0.15</td>\n",
       "    </tr>\n",
       "    <tr>\n",
       "      <th>user 5</th>\n",
       "      <td>-0.24</td>\n",
       "      <td>-0.4</td>\n",
       "      <td>0.066667</td>\n",
       "      <td>0.10</td>\n",
       "      <td>0.12</td>\n",
       "      <td>0.40</td>\n",
       "    </tr>\n",
       "  </tbody>\n",
       "</table>\n",
       "</div>"
      ],
      "text/plain": [
       "        Avengers  The_Incredibles  The_Lion_King  Dumbo  Frozen  Ponyo\n",
       "user 1      0.36              0.6       0.400000  -0.65   -0.08  -0.35\n",
       "user 2      0.56              0.2       0.400000  -0.15   -0.08  -0.60\n",
       "user 3     -0.24             -0.4      -0.600000   0.35    0.52   0.40\n",
       "user 4     -0.44              0.0      -0.266667   0.35   -0.48   0.15\n",
       "user 5     -0.24             -0.4       0.066667   0.10    0.12   0.40"
      ]
     },
     "execution_count": 28,
     "metadata": {},
     "output_type": "execute_result"
    }
   ],
   "source": [
    "ratings_std = ratings_std.T\n",
    "ratings_std"
   ]
  },
  {
   "cell_type": "markdown",
   "id": "47efa031",
   "metadata": {},
   "source": [
    "If you want to use **user collaborative filtering** then there's no need to transpose the data but in this case we are using item-based collaborative filtering."
   ]
  },
  {
   "cell_type": "code",
   "execution_count": 11,
   "id": "af97aa04",
   "metadata": {},
   "outputs": [
    {
     "data": {
      "text/plain": [
       "array([[ 1.        ,  0.70668875,  0.81368151, -0.79941088, -0.02539184,\n",
       "        -0.91410609],\n",
       "       [ 0.70668875,  1.        ,  0.72310153, -0.84515425, -0.5189993 ,\n",
       "        -0.84337386],\n",
       "       [ 0.81368151,  0.72310153,  1.        , -0.84794611, -0.3799803 ,\n",
       "        -0.80218063],\n",
       "       [-0.79941088, -0.84515425, -0.84794611,  1.        ,  0.14803913,\n",
       "         0.72374686],\n",
       "       [-0.02539184, -0.5189993 , -0.3799803 ,  0.14803913,  1.        ,\n",
       "         0.39393939],\n",
       "       [-0.91410609, -0.84337386, -0.80218063,  0.72374686,  0.39393939,\n",
       "         1.        ]])"
      ]
     },
     "execution_count": 11,
     "metadata": {},
     "output_type": "execute_result"
    }
   ],
   "source": [
    "movie_similarity = cosine_similarity(ratings_std)\n",
    "movie_similarity"
   ]
  },
  {
   "cell_type": "markdown",
   "id": "e9162f47",
   "metadata": {},
   "source": [
    "We convert the above numpy array to a dataframe for easy reading."
   ]
  },
  {
   "cell_type": "code",
   "execution_count": 12,
   "id": "c2c303f8",
   "metadata": {},
   "outputs": [
    {
     "data": {
      "text/html": [
       "<div>\n",
       "<style scoped>\n",
       "    .dataframe tbody tr th:only-of-type {\n",
       "        vertical-align: middle;\n",
       "    }\n",
       "\n",
       "    .dataframe tbody tr th {\n",
       "        vertical-align: top;\n",
       "    }\n",
       "\n",
       "    .dataframe thead th {\n",
       "        text-align: right;\n",
       "    }\n",
       "</style>\n",
       "<table border=\"1\" class=\"dataframe\">\n",
       "  <thead>\n",
       "    <tr style=\"text-align: right;\">\n",
       "      <th></th>\n",
       "      <th>Avengers</th>\n",
       "      <th>The_Incredibles</th>\n",
       "      <th>The_Lion_King</th>\n",
       "      <th>Dumbo</th>\n",
       "      <th>Frozen</th>\n",
       "      <th>Ponyo</th>\n",
       "    </tr>\n",
       "  </thead>\n",
       "  <tbody>\n",
       "    <tr>\n",
       "      <th>Avengers</th>\n",
       "      <td>1.000000</td>\n",
       "      <td>0.706689</td>\n",
       "      <td>0.813682</td>\n",
       "      <td>-0.799411</td>\n",
       "      <td>-0.025392</td>\n",
       "      <td>-0.914106</td>\n",
       "    </tr>\n",
       "    <tr>\n",
       "      <th>The_Incredibles</th>\n",
       "      <td>0.706689</td>\n",
       "      <td>1.000000</td>\n",
       "      <td>0.723102</td>\n",
       "      <td>-0.845154</td>\n",
       "      <td>-0.518999</td>\n",
       "      <td>-0.843374</td>\n",
       "    </tr>\n",
       "    <tr>\n",
       "      <th>The_Lion_King</th>\n",
       "      <td>0.813682</td>\n",
       "      <td>0.723102</td>\n",
       "      <td>1.000000</td>\n",
       "      <td>-0.847946</td>\n",
       "      <td>-0.379980</td>\n",
       "      <td>-0.802181</td>\n",
       "    </tr>\n",
       "    <tr>\n",
       "      <th>Dumbo</th>\n",
       "      <td>-0.799411</td>\n",
       "      <td>-0.845154</td>\n",
       "      <td>-0.847946</td>\n",
       "      <td>1.000000</td>\n",
       "      <td>0.148039</td>\n",
       "      <td>0.723747</td>\n",
       "    </tr>\n",
       "    <tr>\n",
       "      <th>Frozen</th>\n",
       "      <td>-0.025392</td>\n",
       "      <td>-0.518999</td>\n",
       "      <td>-0.379980</td>\n",
       "      <td>0.148039</td>\n",
       "      <td>1.000000</td>\n",
       "      <td>0.393939</td>\n",
       "    </tr>\n",
       "    <tr>\n",
       "      <th>Ponyo</th>\n",
       "      <td>-0.914106</td>\n",
       "      <td>-0.843374</td>\n",
       "      <td>-0.802181</td>\n",
       "      <td>0.723747</td>\n",
       "      <td>0.393939</td>\n",
       "      <td>1.000000</td>\n",
       "    </tr>\n",
       "  </tbody>\n",
       "</table>\n",
       "</div>"
      ],
      "text/plain": [
       "                 Avengers  The_Incredibles  The_Lion_King     Dumbo    Frozen  \\\n",
       "Avengers         1.000000         0.706689       0.813682 -0.799411 -0.025392   \n",
       "The_Incredibles  0.706689         1.000000       0.723102 -0.845154 -0.518999   \n",
       "The_Lion_King    0.813682         0.723102       1.000000 -0.847946 -0.379980   \n",
       "Dumbo           -0.799411        -0.845154      -0.847946  1.000000  0.148039   \n",
       "Frozen          -0.025392        -0.518999      -0.379980  0.148039  1.000000   \n",
       "Ponyo           -0.914106        -0.843374      -0.802181  0.723747  0.393939   \n",
       "\n",
       "                    Ponyo  \n",
       "Avengers        -0.914106  \n",
       "The_Incredibles -0.843374  \n",
       "The_Lion_King   -0.802181  \n",
       "Dumbo            0.723747  \n",
       "Frozen           0.393939  \n",
       "Ponyo            1.000000  "
      ]
     },
     "execution_count": 12,
     "metadata": {},
     "output_type": "execute_result"
    }
   ],
   "source": [
    "movie_similarity_df = pd.DataFrame(movie_similarity, index = ratings.columns, columns = ratings.columns)\n",
    "movie_similarity_df"
   ]
  },
  {
   "cell_type": "markdown",
   "id": "47a4ef71",
   "metadata": {},
   "source": [
    "Using the avengers movie as an example we can see from the table that avengers is similar to the incredibles with a similarity rating 0.706689 and also similar to the lion king with a rating of 0.813682 because they are action movies. \n",
    "\n",
    "But you can see how dissimilar it is to the movie Dumbo,Frozen  and Ponyo with negative similarity rating values."
   ]
  },
  {
   "cell_type": "code",
   "execution_count": 20,
   "id": "d5e440a6",
   "metadata": {},
   "outputs": [],
   "source": [
    "def get_similarity(movie_name, rating):\n",
    "    similar_score = movie_similarity_df[movie_name]*(rating-2.5)\n",
    "    \n",
    "    similar_score = similar_score.sort_values(ascending = False)\n",
    "    \n",
    "    return similar_score"
   ]
  },
  {
   "cell_type": "markdown",
   "id": "983169db",
   "metadata": {},
   "source": [
    "What the above function does is that it takes 2 arguments from the user namely movie_name and the rating it gave that particular movie. It multiplies the similarity score of the movie the user inputted with the rating of that particular movie and returns all the movies with their similarity score*rating of user in a sorted list.\n",
    "\n",
    "The (rating-2.5) sets our threshold. Since the range of the rating is 5 we can use 2.5 as our threshold. Anything less than 2.5 indicates that the user did not like the movie and anything above 2.5 shows that the user liked that particular movie."
   ]
  },
  {
   "cell_type": "code",
   "execution_count": 22,
   "id": "e7fb5bf4",
   "metadata": {},
   "outputs": [
    {
     "data": {
      "text/plain": [
       "Avengers           2.500000\n",
       "The_Lion_King      2.034204\n",
       "The_Incredibles    1.766722\n",
       "Frozen            -0.063480\n",
       "Dumbo             -1.998527\n",
       "Ponyo             -2.285265\n",
       "Name: Avengers, dtype: float64"
      ]
     },
     "execution_count": 22,
     "metadata": {},
     "output_type": "execute_result"
    }
   ],
   "source": [
    "get_similarity('Avengers',5)"
   ]
  },
  {
   "cell_type": "markdown",
   "id": "645e9c02",
   "metadata": {},
   "source": [
    "Now we can see above that the next movie to be recommended to the user is The Lion King."
   ]
  },
  {
   "cell_type": "code",
   "execution_count": 24,
   "id": "3ff1923e",
   "metadata": {},
   "outputs": [
    {
     "data": {
      "text/plain": [
       "The_Incredibles    0.778499\n",
       "The_Lion_King      0.569970\n",
       "Avengers           0.038088\n",
       "Dumbo             -0.222059\n",
       "Ponyo             -0.590909\n",
       "Frozen            -1.500000\n",
       "Name: Frozen, dtype: float64"
      ]
     },
     "execution_count": 24,
     "metadata": {},
     "output_type": "execute_result"
    }
   ],
   "source": [
    "get_similarity('Frozen', 1)"
   ]
  },
  {
   "cell_type": "markdown",
   "id": "3a9300e2",
   "metadata": {},
   "source": [
    "Now we can see that since the user clearly did not like the movie **'Frozen'** the similarity rating is low and so is the same for other movies such as ponyo and Dumbo. The similarity ratings also show that the user probably likes movies like the incredibles."
   ]
  },
  {
   "cell_type": "code",
   "execution_count": 25,
   "id": "089ec970",
   "metadata": {},
   "outputs": [],
   "source": [
    "action_lover = [('The_Incredibles', 5), ('Dumbo',1), ('Frozen',1)]"
   ]
  },
  {
   "cell_type": "code",
   "execution_count": 26,
   "id": "e4fab127",
   "metadata": {},
   "outputs": [
    {
     "data": {
      "text/html": [
       "<div>\n",
       "<style scoped>\n",
       "    .dataframe tbody tr th:only-of-type {\n",
       "        vertical-align: middle;\n",
       "    }\n",
       "\n",
       "    .dataframe tbody tr th {\n",
       "        vertical-align: top;\n",
       "    }\n",
       "\n",
       "    .dataframe thead th {\n",
       "        text-align: right;\n",
       "    }\n",
       "</style>\n",
       "<table border=\"1\" class=\"dataframe\">\n",
       "  <thead>\n",
       "    <tr style=\"text-align: right;\">\n",
       "      <th></th>\n",
       "      <th>The_Incredibles</th>\n",
       "      <th>The_Lion_King</th>\n",
       "      <th>Avengers</th>\n",
       "      <th>Frozen</th>\n",
       "      <th>Ponyo</th>\n",
       "      <th>Dumbo</th>\n",
       "    </tr>\n",
       "  </thead>\n",
       "  <tbody>\n",
       "    <tr>\n",
       "      <th>0</th>\n",
       "      <td>2.500000</td>\n",
       "      <td>1.807754</td>\n",
       "      <td>1.766722</td>\n",
       "      <td>-1.297498</td>\n",
       "      <td>-2.108435</td>\n",
       "      <td>-2.112886</td>\n",
       "    </tr>\n",
       "    <tr>\n",
       "      <th>1</th>\n",
       "      <td>1.267731</td>\n",
       "      <td>1.271919</td>\n",
       "      <td>1.199116</td>\n",
       "      <td>-0.222059</td>\n",
       "      <td>-1.085620</td>\n",
       "      <td>-1.500000</td>\n",
       "    </tr>\n",
       "    <tr>\n",
       "      <th>2</th>\n",
       "      <td>0.778499</td>\n",
       "      <td>0.569970</td>\n",
       "      <td>0.038088</td>\n",
       "      <td>-1.500000</td>\n",
       "      <td>-0.590909</td>\n",
       "      <td>-0.222059</td>\n",
       "    </tr>\n",
       "  </tbody>\n",
       "</table>\n",
       "</div>"
      ],
      "text/plain": [
       "   The_Incredibles  The_Lion_King  Avengers    Frozen     Ponyo     Dumbo\n",
       "0         2.500000       1.807754  1.766722 -1.297498 -2.108435 -2.112886\n",
       "1         1.267731       1.271919  1.199116 -0.222059 -1.085620 -1.500000\n",
       "2         0.778499       0.569970  0.038088 -1.500000 -0.590909 -0.222059"
      ]
     },
     "execution_count": 26,
     "metadata": {},
     "output_type": "execute_result"
    }
   ],
   "source": [
    "similar_scores = pd.DataFrame()\n",
    "\n",
    "for movie, rating in action_lover:\n",
    "    similar_scores = similar_scores.append(get_similarity(movie,rating), ignore_index = True)\n",
    "    \n",
    "similar_scores.head()"
   ]
  },
  {
   "cell_type": "code",
   "execution_count": 27,
   "id": "d9438af5",
   "metadata": {},
   "outputs": [
    {
     "data": {
      "text/plain": [
       "The_Incredibles    4.546230\n",
       "The_Lion_King      3.649643\n",
       "Avengers           3.003926\n",
       "Frozen            -3.019557\n",
       "Ponyo             -3.784964\n",
       "Dumbo             -3.834944\n",
       "dtype: float64"
      ]
     },
     "execution_count": 27,
     "metadata": {},
     "output_type": "execute_result"
    }
   ],
   "source": [
    "similar_scores.sum().sort_values(ascending = False)"
   ]
  },
  {
   "cell_type": "markdown",
   "id": "64ef7d49",
   "metadata": {},
   "source": [
    "What we've done above is taken user ratings for 3 movies and recommended movies based of those ratings. Since the user likes the movie **'The Incredibles'** by giving it a rating of 5 and gives a rating of 1 to **'Frozen'** and **'Dumbo'** the similarity rating for both movies are low and as you can see from the list they are at the bottom.\n",
    "\n",
    "The movies recommended to the user will be the lion king and avengers since their similarity ratings to the incredibles are high."
   ]
  }
 ],
 "metadata": {
  "kernelspec": {
   "display_name": "Python 3 (ipykernel)",
   "language": "python",
   "name": "python3"
  },
  "language_info": {
   "codemirror_mode": {
    "name": "ipython",
    "version": 3
   },
   "file_extension": ".py",
   "mimetype": "text/x-python",
   "name": "python",
   "nbconvert_exporter": "python",
   "pygments_lexer": "ipython3",
   "version": "3.9.7"
  }
 },
 "nbformat": 4,
 "nbformat_minor": 5
}
