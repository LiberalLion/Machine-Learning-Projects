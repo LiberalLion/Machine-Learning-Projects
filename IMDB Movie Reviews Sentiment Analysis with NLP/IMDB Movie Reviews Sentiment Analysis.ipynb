{
 "cells": [
  {
   "cell_type": "markdown",
   "id": "6025239e",
   "metadata": {},
   "source": [
    "# IMDB Movie Reviews Sentiment Analysis\n",
    "\n",
    "In this project I try to perform sentiment analysis of IMDB movie reviews using NLP techniques"
   ]
  },
  {
   "cell_type": "code",
   "execution_count": 36,
   "id": "e1182bec",
   "metadata": {},
   "outputs": [],
   "source": [
    "import pandas as pd"
   ]
  },
  {
   "cell_type": "code",
   "execution_count": 37,
   "id": "0bf8d1f3",
   "metadata": {},
   "outputs": [
    {
     "data": {
      "text/html": [
       "<div>\n",
       "<style scoped>\n",
       "    .dataframe tbody tr th:only-of-type {\n",
       "        vertical-align: middle;\n",
       "    }\n",
       "\n",
       "    .dataframe tbody tr th {\n",
       "        vertical-align: top;\n",
       "    }\n",
       "\n",
       "    .dataframe thead th {\n",
       "        text-align: right;\n",
       "    }\n",
       "</style>\n",
       "<table border=\"1\" class=\"dataframe\">\n",
       "  <thead>\n",
       "    <tr style=\"text-align: right;\">\n",
       "      <th></th>\n",
       "      <th>review</th>\n",
       "      <th>sentiment</th>\n",
       "    </tr>\n",
       "  </thead>\n",
       "  <tbody>\n",
       "    <tr>\n",
       "      <th>0</th>\n",
       "      <td>One of the other reviewers has mentioned that ...</td>\n",
       "      <td>positive</td>\n",
       "    </tr>\n",
       "    <tr>\n",
       "      <th>1</th>\n",
       "      <td>A wonderful little production. &lt;br /&gt;&lt;br /&gt;The...</td>\n",
       "      <td>positive</td>\n",
       "    </tr>\n",
       "    <tr>\n",
       "      <th>2</th>\n",
       "      <td>I thought this was a wonderful way to spend ti...</td>\n",
       "      <td>positive</td>\n",
       "    </tr>\n",
       "    <tr>\n",
       "      <th>3</th>\n",
       "      <td>Basically there's a family where a little boy ...</td>\n",
       "      <td>negative</td>\n",
       "    </tr>\n",
       "    <tr>\n",
       "      <th>4</th>\n",
       "      <td>Petter Mattei's \"Love in the Time of Money\" is...</td>\n",
       "      <td>positive</td>\n",
       "    </tr>\n",
       "  </tbody>\n",
       "</table>\n",
       "</div>"
      ],
      "text/plain": [
       "                                              review sentiment\n",
       "0  One of the other reviewers has mentioned that ...  positive\n",
       "1  A wonderful little production. <br /><br />The...  positive\n",
       "2  I thought this was a wonderful way to spend ti...  positive\n",
       "3  Basically there's a family where a little boy ...  negative\n",
       "4  Petter Mattei's \"Love in the Time of Money\" is...  positive"
      ]
     },
     "execution_count": 37,
     "metadata": {},
     "output_type": "execute_result"
    }
   ],
   "source": [
    "data = pd.read_csv('imdb_reviews.csv')\n",
    "\n",
    "data.head()"
   ]
  },
  {
   "cell_type": "markdown",
   "id": "faafc3a3",
   "metadata": {},
   "source": [
    "Because the dataset doesn't have any headers it uses the first row as the header. Therefore we have to add the argument **'header = None'** when reading the dataset.\""
   ]
  },
  {
   "cell_type": "code",
   "execution_count": 5,
   "id": "7234a95f",
   "metadata": {},
   "outputs": [
    {
     "data": {
      "text/html": [
       "<div>\n",
       "<style scoped>\n",
       "    .dataframe tbody tr th:only-of-type {\n",
       "        vertical-align: middle;\n",
       "    }\n",
       "\n",
       "    .dataframe tbody tr th {\n",
       "        vertical-align: top;\n",
       "    }\n",
       "\n",
       "    .dataframe thead th {\n",
       "        text-align: right;\n",
       "    }\n",
       "</style>\n",
       "<table border=\"1\" class=\"dataframe\">\n",
       "  <thead>\n",
       "    <tr style=\"text-align: right;\">\n",
       "      <th></th>\n",
       "      <th>0</th>\n",
       "      <th>1</th>\n",
       "    </tr>\n",
       "  </thead>\n",
       "  <tbody>\n",
       "    <tr>\n",
       "      <th>0</th>\n",
       "      <td>A very, very, very slow-moving, aimless movie ...</td>\n",
       "      <td>0</td>\n",
       "    </tr>\n",
       "    <tr>\n",
       "      <th>1</th>\n",
       "      <td>Not sure who was more lost - the flat characte...</td>\n",
       "      <td>0</td>\n",
       "    </tr>\n",
       "    <tr>\n",
       "      <th>2</th>\n",
       "      <td>Attempting artiness with black &amp; white and cle...</td>\n",
       "      <td>0</td>\n",
       "    </tr>\n",
       "    <tr>\n",
       "      <th>3</th>\n",
       "      <td>Very little music or anything to speak of.</td>\n",
       "      <td>0</td>\n",
       "    </tr>\n",
       "    <tr>\n",
       "      <th>4</th>\n",
       "      <td>The best scene in the movie was when Gerardo i...</td>\n",
       "      <td>1</td>\n",
       "    </tr>\n",
       "  </tbody>\n",
       "</table>\n",
       "</div>"
      ],
      "text/plain": [
       "                                                   0  1\n",
       "0  A very, very, very slow-moving, aimless movie ...  0\n",
       "1  Not sure who was more lost - the flat characte...  0\n",
       "2  Attempting artiness with black & white and cle...  0\n",
       "3       Very little music or anything to speak of.    0\n",
       "4  The best scene in the movie was when Gerardo i...  1"
      ]
     },
     "execution_count": 5,
     "metadata": {},
     "output_type": "execute_result"
    }
   ],
   "source": [
    "data = pd.read_csv('imdb_reviews.csv', header = None)\n",
    "data.head()"
   ]
  },
  {
   "cell_type": "markdown",
   "id": "b78e8691",
   "metadata": {},
   "source": [
    "Now we have two columns, the review and the labels. 0 indicates a negative review while 1 indicates a positive review"
   ]
  },
  {
   "cell_type": "code",
   "execution_count": 6,
   "id": "aa8b3663",
   "metadata": {},
   "outputs": [],
   "source": [
    "review = data[0]\n",
    "\n",
    "label = data[1]"
   ]
  },
  {
   "cell_type": "markdown",
   "id": "6c4205ac",
   "metadata": {},
   "source": [
    "We save the reviews column to a variable called **review** and the labels to a variable called **label**."
   ]
  },
  {
   "cell_type": "code",
   "execution_count": 7,
   "id": "a24998fb",
   "metadata": {},
   "outputs": [
    {
     "data": {
      "text/plain": [
       "0    A very, very, very slow-moving, aimless movie ...\n",
       "1    Not sure who was more lost - the flat characte...\n",
       "2    Attempting artiness with black & white and cle...\n",
       "3         Very little music or anything to speak of.  \n",
       "4    The best scene in the movie was when Gerardo i...\n",
       "Name: 0, dtype: object"
      ]
     },
     "execution_count": 7,
     "metadata": {},
     "output_type": "execute_result"
    }
   ],
   "source": [
    "review.head()"
   ]
  },
  {
   "cell_type": "code",
   "execution_count": 8,
   "id": "ea8e2821",
   "metadata": {},
   "outputs": [
    {
     "data": {
      "text/plain": [
       "0    0\n",
       "1    0\n",
       "2    0\n",
       "3    0\n",
       "4    1\n",
       "Name: 1, dtype: int64"
      ]
     },
     "execution_count": 8,
     "metadata": {},
     "output_type": "execute_result"
    }
   ],
   "source": [
    "label.head()"
   ]
  },
  {
   "cell_type": "markdown",
   "id": "bca895cb",
   "metadata": {},
   "source": [
    "## Pre Processing\n",
    "Now in this section we have to process the data by:\n",
    "1. Converting all the rows to lower case.\n",
    "2. Removing stop words like i, me , you, our, your etc\n",
    "3. Removing hyperlinks,numbers,punctuations etc."
   ]
  },
  {
   "cell_type": "markdown",
   "id": "d1d96f68",
   "metadata": {},
   "source": [
    "Now we import the nltk library. NLTK is a toolkit build for working with NLP in Python. It provides us various text processing libraries with a lot of test datasets."
   ]
  },
  {
   "cell_type": "code",
   "execution_count": 10,
   "id": "b3f0e127",
   "metadata": {},
   "outputs": [],
   "source": [
    "import nltk\n",
    "import re\n",
    "import string"
   ]
  },
  {
   "cell_type": "code",
   "execution_count": 11,
   "id": "2122a282",
   "metadata": {},
   "outputs": [
    {
     "name": "stderr",
     "output_type": "stream",
     "text": [
      "[nltk_data] Downloading package stopwords to C:\\Users\\IFEANYI\n",
      "[nltk_data]     PC\\AppData\\Roaming\\nltk_data...\n",
      "[nltk_data]   Unzipping corpora\\stopwords.zip.\n"
     ]
    }
   ],
   "source": [
    "nltk.download('stopwords')\n",
    "\n",
    "stop_words = nltk.corpus.stopwords.words('english')"
   ]
  },
  {
   "cell_type": "markdown",
   "id": "0be6f194",
   "metadata": {},
   "source": [
    "We download the stopwords we want to remove from the dataset."
   ]
  },
  {
   "cell_type": "code",
   "execution_count": 12,
   "id": "6a7613db",
   "metadata": {},
   "outputs": [
    {
     "name": "stderr",
     "output_type": "stream",
     "text": [
      "[nltk_data] Downloading package punkt to C:\\Users\\IFEANYI\n",
      "[nltk_data]     PC\\AppData\\Roaming\\nltk_data...\n",
      "[nltk_data]   Unzipping tokenizers\\punkt.zip.\n"
     ]
    }
   ],
   "source": [
    "nltk.download('punkt')\n",
    "\n",
    "from nltk.tokenize import word_tokenize"
   ]
  },
  {
   "cell_type": "code",
   "execution_count": 17,
   "id": "89adf866",
   "metadata": {},
   "outputs": [],
   "source": [
    "def pre_process(txt):\n",
    "    lowered_text = txt.lower()\n",
    "    \n",
    "    removed_numbers = re.sub(r'\\d+','',lowered_text) # re. is for regular expressions. Substitutes digits with an empty string.\n",
    "    \n",
    "    removed_punctuation = removed_numbers.translate(str.maketrans('','',string.punctuation)) # This removes punctuation from the text and replaces it with an empty string\n",
    "    \n",
    "    # now we split the text to obtain tokens and then remove the stopwords.\n",
    "    \n",
    "    word_tokens = word_tokenize(removed_punctuation)\n",
    "    \n",
    "    processed_text = ''.join([word for word in word_tokens if word not in stop_words])\n",
    "    \n",
    "    return processed_text"
   ]
  },
  {
   "cell_type": "code",
   "execution_count": 18,
   "id": "2c88cb08",
   "metadata": {},
   "outputs": [
    {
     "data": {
      "text/plain": [
       "0       slowmovingaimlessmoviedistresseddriftingyoungman\n",
       "1         surelostflatcharactersaudiencenearlyhalfwalked\n",
       "2      attemptingartinessblackwhiteclevercameraangles...\n",
       "3                               littlemusicanythingspeak\n",
       "4      bestscenemoviegerardotryingfindsongkeepsrunnin...\n",
       "                             ...                        \n",
       "743              gotboredwatchingjessicelangetakeclothes\n",
       "744    unfortunatelyvirtuefilmsproductionworklostregr...\n",
       "745                                     wordembarrassing\n",
       "746                                     exceptionallybad\n",
       "747                 insultonesintelligencehugewastemoney\n",
       "Name: 0, Length: 748, dtype: object"
      ]
     },
     "execution_count": 18,
     "metadata": {},
     "output_type": "execute_result"
    }
   ],
   "source": [
    "processed = review.apply(pre_process) #.apply applies a function across a pandas dataframe.\n",
    "\n",
    "processed"
   ]
  },
  {
   "cell_type": "markdown",
   "id": "6300160a",
   "metadata": {},
   "source": [
    "We have now processed the text but we still need to tokenize it."
   ]
  },
  {
   "cell_type": "code",
   "execution_count": 19,
   "id": "974223c6",
   "metadata": {},
   "outputs": [
    {
     "data": {
      "text/plain": [
       "<748x748 sparse matrix of type '<class 'numpy.int64'>'\n",
       "\twith 754 stored elements in Compressed Sparse Row format>"
      ]
     },
     "execution_count": 19,
     "metadata": {},
     "output_type": "execute_result"
    }
   ],
   "source": [
    "from sklearn.feature_extraction.text import CountVectorizer\n",
    "\n",
    "vectorizer = CountVectorizer()\n",
    "\n",
    "input_data = vectorizer.fit_transform(processed)\n",
    "input_data"
   ]
  },
  {
   "cell_type": "markdown",
   "id": "ec802dea",
   "metadata": {},
   "source": [
    "We have now created our sparse matrix with number of reviews as rows(748) and all the words in the dataset as columns after removing the stopwords(748)"
   ]
  },
  {
   "cell_type": "code",
   "execution_count": 20,
   "id": "39d2013e",
   "metadata": {},
   "outputs": [
    {
     "name": "stdout",
     "output_type": "stream",
     "text": [
      "  (0, 614)\t1\n",
      "  (1, 648)\t1\n",
      "  (2, 41)\t1\n",
      "  (3, 373)\t1\n",
      "  (4, 64)\t1\n",
      "  (5, 560)\t1\n",
      "  (6, 711)\t1\n",
      "  (7, 575)\t1\n",
      "  (8, 67)\t1\n",
      "  (9, 380)\t1\n",
      "  (10, 50)\t1\n",
      "  (11, 440)\t1\n",
      "  (12, 618)\t1\n",
      "  (13, 116)\t1\n",
      "  (14, 565)\t1\n",
      "  (15, 44)\t1\n",
      "  (16, 563)\t1\n",
      "  (17, 313)\t1\n",
      "  (18, 524)\t1\n",
      "  (18, 686)\t1\n",
      "  (19, 643)\t1\n",
      "  (20, 236)\t1\n",
      "  (21, 182)\t1\n",
      "  (22, 488)\t1\n",
      "  (23, 516)\t1\n",
      "  :\t:\n",
      "  (723, 632)\t1\n",
      "  (724, 109)\t1\n",
      "  (725, 324)\t1\n",
      "  (726, 712)\t1\n",
      "  (727, 716)\t1\n",
      "  (728, 336)\t1\n",
      "  (729, 339)\t1\n",
      "  (730, 569)\t1\n",
      "  (731, 595)\t1\n",
      "  (732, 387)\t1\n",
      "  (733, 633)\t1\n",
      "  (734, 554)\t1\n",
      "  (735, 444)\t1\n",
      "  (736, 566)\t1\n",
      "  (737, 36)\t1\n",
      "  (738, 483)\t1\n",
      "  (739, 205)\t1\n",
      "  (740, 350)\t1\n",
      "  (741, 376)\t1\n",
      "  (742, 452)\t1\n",
      "  (743, 268)\t1\n",
      "  (744, 697)\t1\n",
      "  (745, 730)\t1\n",
      "  (746, 196)\t1\n",
      "  (747, 325)\t1\n"
     ]
    }
   ],
   "source": [
    "print(input_data)"
   ]
  },
  {
   "cell_type": "markdown",
   "id": "7e59655a",
   "metadata": {},
   "source": [
    "Now we can feed the matrix to a machine learning model. In this case we'll use the Logistic Regression model since we are trying to classify it into positive or negative."
   ]
  },
  {
   "cell_type": "code",
   "execution_count": 27,
   "id": "be71817c",
   "metadata": {},
   "outputs": [
    {
     "data": {
      "text/plain": [
       "LogisticRegression()"
      ]
     },
     "execution_count": 27,
     "metadata": {},
     "output_type": "execute_result"
    }
   ],
   "source": [
    "from sklearn.linear_model import LogisticRegression\n",
    "\n",
    "model = LogisticRegression()\n",
    "model.fit(input_data, label)"
   ]
  },
  {
   "cell_type": "code",
   "execution_count": 35,
   "id": "5c6133a6",
   "metadata": {},
   "outputs": [
    {
     "name": "stdout",
     "output_type": "stream",
     "text": [
      "This is a Negative Sentiment Sentence.\n"
     ]
    }
   ],
   "source": [
    "def prediction_input(sentence):\n",
    "    processed = pre_process(sentence)\n",
    "    input_data = vectorizer.transform([processed])\n",
    "    prediction = model.predict(input_data)\n",
    "    \n",
    "    if (prediction[0] == 1):\n",
    "        print('This is a Positive Sentiment Sentence.')\n",
    "    elif (prediction[0] == 0):\n",
    "        print('This is a Negative Sentiment Sentence.')\n",
    "\n",
    "prediction_input('That movie was bad')"
   ]
  },
  {
   "cell_type": "code",
   "execution_count": 30,
   "id": "0eeae0a5",
   "metadata": {},
   "outputs": [
    {
     "name": "stdout",
     "output_type": "stream",
     "text": [
      "This is a Positive Sentiment Sentence.\n"
     ]
    }
   ],
   "source": [
    "prediction_input(review_input)"
   ]
  }
 ],
 "metadata": {
  "kernelspec": {
   "display_name": "Python 3 (ipykernel)",
   "language": "python",
   "name": "python3"
  },
  "language_info": {
   "codemirror_mode": {
    "name": "ipython",
    "version": 3
   },
   "file_extension": ".py",
   "mimetype": "text/x-python",
   "name": "python",
   "nbconvert_exporter": "python",
   "pygments_lexer": "ipython3",
   "version": "3.9.7"
  }
 },
 "nbformat": 4,
 "nbformat_minor": 5
}
