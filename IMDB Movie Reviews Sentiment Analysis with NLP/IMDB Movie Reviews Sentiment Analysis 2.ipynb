{
 "cells": [
  {
   "cell_type": "markdown",
   "id": "2b41306f",
   "metadata": {},
   "source": [
    "# IMDB Movie Reviews Sentiment Analysis\n",
    "\n",
    "In this project I try to perform sentiment analysis of IMDB movie reviews using NLP techniques"
   ]
  },
  {
   "cell_type": "code",
   "execution_count": 58,
   "id": "1183182e",
   "metadata": {},
   "outputs": [],
   "source": [
    "import pandas as pd"
   ]
  },
  {
   "cell_type": "code",
   "execution_count": 59,
   "id": "50b75380",
   "metadata": {},
   "outputs": [
    {
     "data": {
      "text/html": [
       "<div>\n",
       "<style scoped>\n",
       "    .dataframe tbody tr th:only-of-type {\n",
       "        vertical-align: middle;\n",
       "    }\n",
       "\n",
       "    .dataframe tbody tr th {\n",
       "        vertical-align: top;\n",
       "    }\n",
       "\n",
       "    .dataframe thead th {\n",
       "        text-align: right;\n",
       "    }\n",
       "</style>\n",
       "<table border=\"1\" class=\"dataframe\">\n",
       "  <thead>\n",
       "    <tr style=\"text-align: right;\">\n",
       "      <th></th>\n",
       "      <th>review</th>\n",
       "      <th>sentiment</th>\n",
       "    </tr>\n",
       "  </thead>\n",
       "  <tbody>\n",
       "    <tr>\n",
       "      <th>0</th>\n",
       "      <td>One of the other reviewers has mentioned that ...</td>\n",
       "      <td>positive</td>\n",
       "    </tr>\n",
       "    <tr>\n",
       "      <th>1</th>\n",
       "      <td>A wonderful little production. &lt;br /&gt;&lt;br /&gt;The...</td>\n",
       "      <td>positive</td>\n",
       "    </tr>\n",
       "    <tr>\n",
       "      <th>2</th>\n",
       "      <td>I thought this was a wonderful way to spend ti...</td>\n",
       "      <td>positive</td>\n",
       "    </tr>\n",
       "    <tr>\n",
       "      <th>3</th>\n",
       "      <td>Basically there's a family where a little boy ...</td>\n",
       "      <td>negative</td>\n",
       "    </tr>\n",
       "    <tr>\n",
       "      <th>4</th>\n",
       "      <td>Petter Mattei's \"Love in the Time of Money\" is...</td>\n",
       "      <td>positive</td>\n",
       "    </tr>\n",
       "  </tbody>\n",
       "</table>\n",
       "</div>"
      ],
      "text/plain": [
       "                                              review sentiment\n",
       "0  One of the other reviewers has mentioned that ...  positive\n",
       "1  A wonderful little production. <br /><br />The...  positive\n",
       "2  I thought this was a wonderful way to spend ti...  positive\n",
       "3  Basically there's a family where a little boy ...  negative\n",
       "4  Petter Mattei's \"Love in the Time of Money\" is...  positive"
      ]
     },
     "execution_count": 59,
     "metadata": {},
     "output_type": "execute_result"
    }
   ],
   "source": [
    "data = pd.read_csv('imdb.csv')\n",
    "\n",
    "data.head()"
   ]
  },
  {
   "cell_type": "markdown",
   "id": "17b97644",
   "metadata": {},
   "source": [
    "The next two lines convert the positive and negative sentiments to 1 and 0 respectively so we can use it later for our ML Model."
   ]
  },
  {
   "cell_type": "code",
   "execution_count": 60,
   "id": "29d19e60",
   "metadata": {},
   "outputs": [],
   "source": [
    "data.loc[data['sentiment']=='positive','sentiment'] = 1"
   ]
  },
  {
   "cell_type": "code",
   "execution_count": 61,
   "id": "cdb54873",
   "metadata": {},
   "outputs": [],
   "source": [
    "data.loc[data['sentiment']=='negative','sentiment'] = 0"
   ]
  },
  {
   "cell_type": "code",
   "execution_count": 69,
   "id": "82f77c48",
   "metadata": {},
   "outputs": [
    {
     "data": {
      "text/html": [
       "<div>\n",
       "<style scoped>\n",
       "    .dataframe tbody tr th:only-of-type {\n",
       "        vertical-align: middle;\n",
       "    }\n",
       "\n",
       "    .dataframe tbody tr th {\n",
       "        vertical-align: top;\n",
       "    }\n",
       "\n",
       "    .dataframe thead th {\n",
       "        text-align: right;\n",
       "    }\n",
       "</style>\n",
       "<table border=\"1\" class=\"dataframe\">\n",
       "  <thead>\n",
       "    <tr style=\"text-align: right;\">\n",
       "      <th></th>\n",
       "      <th>review</th>\n",
       "      <th>sentiment</th>\n",
       "    </tr>\n",
       "  </thead>\n",
       "  <tbody>\n",
       "    <tr>\n",
       "      <th>0</th>\n",
       "      <td>One of the other reviewers has mentioned that ...</td>\n",
       "      <td>1</td>\n",
       "    </tr>\n",
       "    <tr>\n",
       "      <th>1</th>\n",
       "      <td>A wonderful little production. &lt;br /&gt;&lt;br /&gt;The...</td>\n",
       "      <td>1</td>\n",
       "    </tr>\n",
       "    <tr>\n",
       "      <th>2</th>\n",
       "      <td>I thought this was a wonderful way to spend ti...</td>\n",
       "      <td>1</td>\n",
       "    </tr>\n",
       "    <tr>\n",
       "      <th>3</th>\n",
       "      <td>Basically there's a family where a little boy ...</td>\n",
       "      <td>0</td>\n",
       "    </tr>\n",
       "    <tr>\n",
       "      <th>4</th>\n",
       "      <td>Petter Mattei's \"Love in the Time of Money\" is...</td>\n",
       "      <td>1</td>\n",
       "    </tr>\n",
       "    <tr>\n",
       "      <th>...</th>\n",
       "      <td>...</td>\n",
       "      <td>...</td>\n",
       "    </tr>\n",
       "    <tr>\n",
       "      <th>49995</th>\n",
       "      <td>I thought this movie did a down right good job...</td>\n",
       "      <td>1</td>\n",
       "    </tr>\n",
       "    <tr>\n",
       "      <th>49996</th>\n",
       "      <td>Bad plot, bad dialogue, bad acting, idiotic di...</td>\n",
       "      <td>0</td>\n",
       "    </tr>\n",
       "    <tr>\n",
       "      <th>49997</th>\n",
       "      <td>I am a Catholic taught in parochial elementary...</td>\n",
       "      <td>0</td>\n",
       "    </tr>\n",
       "    <tr>\n",
       "      <th>49998</th>\n",
       "      <td>I'm going to have to disagree with the previou...</td>\n",
       "      <td>0</td>\n",
       "    </tr>\n",
       "    <tr>\n",
       "      <th>49999</th>\n",
       "      <td>No one expects the Star Trek movies to be high...</td>\n",
       "      <td>0</td>\n",
       "    </tr>\n",
       "  </tbody>\n",
       "</table>\n",
       "<p>50000 rows × 2 columns</p>\n",
       "</div>"
      ],
      "text/plain": [
       "                                                  review  sentiment\n",
       "0      One of the other reviewers has mentioned that ...          1\n",
       "1      A wonderful little production. <br /><br />The...          1\n",
       "2      I thought this was a wonderful way to spend ti...          1\n",
       "3      Basically there's a family where a little boy ...          0\n",
       "4      Petter Mattei's \"Love in the Time of Money\" is...          1\n",
       "...                                                  ...        ...\n",
       "49995  I thought this movie did a down right good job...          1\n",
       "49996  Bad plot, bad dialogue, bad acting, idiotic di...          0\n",
       "49997  I am a Catholic taught in parochial elementary...          0\n",
       "49998  I'm going to have to disagree with the previou...          0\n",
       "49999  No one expects the Star Trek movies to be high...          0\n",
       "\n",
       "[50000 rows x 2 columns]"
      ]
     },
     "execution_count": 69,
     "metadata": {},
     "output_type": "execute_result"
    }
   ],
   "source": [
    "data[\"sentiment\"] = pd.to_numeric(data[\"sentiment\"])\n",
    "data"
   ]
  },
  {
   "cell_type": "markdown",
   "id": "36cb9968",
   "metadata": {},
   "source": [
    "Now we have two columns, the review and the sentiment."
   ]
  },
  {
   "cell_type": "code",
   "execution_count": 70,
   "id": "cba75c10",
   "metadata": {},
   "outputs": [],
   "source": [
    "review = data['review']\n",
    "\n",
    "label = data['sentiment']"
   ]
  },
  {
   "cell_type": "markdown",
   "id": "bc055e02",
   "metadata": {},
   "source": [
    "We save the reviews column to a variable called **review** and the labels to a variable called **label**."
   ]
  },
  {
   "cell_type": "code",
   "execution_count": 71,
   "id": "34f259aa",
   "metadata": {},
   "outputs": [
    {
     "data": {
      "text/plain": [
       "0    One of the other reviewers has mentioned that ...\n",
       "1    A wonderful little production. <br /><br />The...\n",
       "2    I thought this was a wonderful way to spend ti...\n",
       "3    Basically there's a family where a little boy ...\n",
       "4    Petter Mattei's \"Love in the Time of Money\" is...\n",
       "Name: review, dtype: object"
      ]
     },
     "execution_count": 71,
     "metadata": {},
     "output_type": "execute_result"
    }
   ],
   "source": [
    "review.head()"
   ]
  },
  {
   "cell_type": "code",
   "execution_count": 72,
   "id": "cd1ded62",
   "metadata": {},
   "outputs": [
    {
     "data": {
      "text/plain": [
       "0    1\n",
       "1    1\n",
       "2    1\n",
       "3    0\n",
       "4    1\n",
       "Name: sentiment, dtype: int64"
      ]
     },
     "execution_count": 72,
     "metadata": {},
     "output_type": "execute_result"
    }
   ],
   "source": [
    "label.head()"
   ]
  },
  {
   "cell_type": "markdown",
   "id": "b2f3d41a",
   "metadata": {},
   "source": [
    "## Pre Processing\n",
    "Now in this section we have to process the data by:\n",
    "1. Converting all the rows to lower case.\n",
    "2. Removing stop words like i, me , you, our, your etc\n",
    "3. Removing hyperlinks,numbers,punctuations etc."
   ]
  },
  {
   "cell_type": "markdown",
   "id": "e1ea6106",
   "metadata": {},
   "source": [
    "Now we import the nltk library. NLTK is a toolkit build for working with NLP in Python. It provides us various text processing libraries with a lot of test datasets."
   ]
  },
  {
   "cell_type": "code",
   "execution_count": 73,
   "id": "2ef3d0a2",
   "metadata": {},
   "outputs": [],
   "source": [
    "import nltk\n",
    "import re\n",
    "import string"
   ]
  },
  {
   "cell_type": "code",
   "execution_count": 74,
   "id": "f754db9c",
   "metadata": {},
   "outputs": [
    {
     "name": "stderr",
     "output_type": "stream",
     "text": [
      "[nltk_data] Downloading package stopwords to C:\\Users\\IFEANYI\n",
      "[nltk_data]     PC\\AppData\\Roaming\\nltk_data...\n",
      "[nltk_data]   Package stopwords is already up-to-date!\n"
     ]
    }
   ],
   "source": [
    "nltk.download('stopwords')\n",
    "\n",
    "stop_words = nltk.corpus.stopwords.words('english')"
   ]
  },
  {
   "cell_type": "markdown",
   "id": "f2e93633",
   "metadata": {},
   "source": [
    "We download the stopwords we want to remove from the dataset."
   ]
  },
  {
   "cell_type": "code",
   "execution_count": 75,
   "id": "f5e52573",
   "metadata": {},
   "outputs": [
    {
     "name": "stderr",
     "output_type": "stream",
     "text": [
      "[nltk_data] Downloading package punkt to C:\\Users\\IFEANYI\n",
      "[nltk_data]     PC\\AppData\\Roaming\\nltk_data...\n",
      "[nltk_data]   Package punkt is already up-to-date!\n"
     ]
    }
   ],
   "source": [
    "nltk.download('punkt')\n",
    "\n",
    "from nltk.tokenize import word_tokenize"
   ]
  },
  {
   "cell_type": "code",
   "execution_count": 76,
   "id": "5d9f2bc9",
   "metadata": {},
   "outputs": [],
   "source": [
    "def pre_process(txt):\n",
    "    lowered_text = txt.lower()\n",
    "    \n",
    "    removed_numbers = re.sub(r'\\d+','',lowered_text) # re. is for regular expressions. Substitutes digits with an empty string.\n",
    "    \n",
    "    removed_punctuation = removed_numbers.translate(str.maketrans('','',string.punctuation)) # This removes punctuation from the text and replaces it with an empty string\n",
    "    \n",
    "    # now we split the text to obtain tokens and then remove the stopwords.\n",
    "    \n",
    "    word_tokens = word_tokenize(removed_punctuation)\n",
    "    \n",
    "    processed_text = ''.join([word for word in word_tokens if word not in stop_words])\n",
    "    \n",
    "    return processed_text"
   ]
  },
  {
   "cell_type": "code",
   "execution_count": 77,
   "id": "f1117ecc",
   "metadata": {},
   "outputs": [
    {
     "data": {
      "text/plain": [
       "0        onereviewersmentionedwatchingozepisodeyoullhoo...\n",
       "1        wonderfullittleproductionbrbrfilmingtechniqueu...\n",
       "2        thoughtwonderfulwayspendtimehotsummerweekendsi...\n",
       "3        basicallytheresfamilylittleboyjakethinkstheres...\n",
       "4        pettermatteislovetimemoneyvisuallystunningfilm...\n",
       "                               ...                        \n",
       "49995    thoughtmovierightgoodjobwasntcreativeoriginalf...\n",
       "49996    badplotbaddialoguebadactingidioticdirectingann...\n",
       "49997    catholictaughtparochialelementaryschoolsnunsta...\n",
       "49998    imgoingdisagreepreviouscommentsidemaltinonesec...\n",
       "49999    oneexpectsstartrekmovieshighartfansexpectmovie...\n",
       "Name: review, Length: 50000, dtype: object"
      ]
     },
     "execution_count": 77,
     "metadata": {},
     "output_type": "execute_result"
    }
   ],
   "source": [
    "processed = review.apply(pre_process) #.apply applies a function across a pandas dataframe.\n",
    "\n",
    "processed"
   ]
  },
  {
   "cell_type": "markdown",
   "id": "cc68f4b2",
   "metadata": {},
   "source": [
    "We have now processed the text but we still need to tokenize it."
   ]
  },
  {
   "cell_type": "code",
   "execution_count": 78,
   "id": "a3f72cf3",
   "metadata": {},
   "outputs": [
    {
     "data": {
      "text/plain": [
       "<50000x54131 sparse matrix of type '<class 'numpy.int64'>'\n",
       "\twith 54605 stored elements in Compressed Sparse Row format>"
      ]
     },
     "execution_count": 78,
     "metadata": {},
     "output_type": "execute_result"
    }
   ],
   "source": [
    "from sklearn.feature_extraction.text import CountVectorizer\n",
    "\n",
    "vectorizer = CountVectorizer()\n",
    "\n",
    "input_data = vectorizer.fit_transform(processed)\n",
    "input_data"
   ]
  },
  {
   "cell_type": "markdown",
   "id": "12af08c3",
   "metadata": {},
   "source": [
    "We have now created our sparse matrix with number of reviews as rows(50000) and all the words in the dataset as columns after removing the stopwords(54605)"
   ]
  },
  {
   "cell_type": "code",
   "execution_count": 79,
   "id": "a590526c",
   "metadata": {},
   "outputs": [
    {
     "name": "stdout",
     "output_type": "stream",
     "text": [
      "  (0, 33523)\t1\n",
      "  (1, 52330)\t1\n",
      "  (2, 47296)\t1\n",
      "  (3, 3292)\t1\n",
      "  (4, 34949)\t1\n",
      "  (5, 36048)\t1\n",
      "  (6, 45390)\t1\n",
      "  (7, 42384)\t1\n",
      "  (8, 10557)\t1\n",
      "  (9, 24508)\t1\n",
      "  (10, 34963)\t1\n",
      "  (11, 40135)\t1\n",
      "  (12, 20553)\t1\n",
      "  (13, 5754)\t1\n",
      "  (14, 12330)\t1\n",
      "  (15, 22987)\t1\n",
      "  (16, 13935)\t1\n",
      "  (17, 29071)\t1\n",
      "  (18, 38317)\t1\n",
      "  (19, 2837)\t1\n",
      "  (20, 45084)\t1\n",
      "  (21, 46037)\t1\n",
      "  (22, 173)\t1\n",
      "  (23, 14792)\t1\n",
      "  (24, 52689)\t1\n",
      "  :\t:\n",
      "  (49977, 9287)\t1\n",
      "  (49977, 23754)\t1\n",
      "  (49977, 21977)\t1\n",
      "  (49978, 18524)\t1\n",
      "  (49979, 40021)\t1\n",
      "  (49980, 44949)\t1\n",
      "  (49981, 38674)\t1\n",
      "  (49982, 19772)\t1\n",
      "  (49983, 25347)\t1\n",
      "  (49984, 19141)\t1\n",
      "  (49985, 20457)\t1\n",
      "  (49986, 28372)\t1\n",
      "  (49987, 38251)\t1\n",
      "  (49988, 15399)\t1\n",
      "  (49989, 17655)\t1\n",
      "  (49990, 23482)\t1\n",
      "  (49991, 23902)\t1\n",
      "  (49992, 22565)\t1\n",
      "  (49993, 39103)\t1\n",
      "  (49994, 48636)\t1\n",
      "  (49995, 47217)\t1\n",
      "  (49996, 3100)\t1\n",
      "  (49997, 5777)\t1\n",
      "  (49998, 20717)\t1\n",
      "  (49999, 33005)\t1\n"
     ]
    }
   ],
   "source": [
    "print(input_data)"
   ]
  },
  {
   "cell_type": "markdown",
   "id": "7de2c8be",
   "metadata": {},
   "source": [
    "Now we can feed the matrix to a machine learning model. In this case we'll use the Logistic Regression model since we are trying to classify it into positive or negative."
   ]
  },
  {
   "cell_type": "code",
   "execution_count": 80,
   "id": "46e82cd1",
   "metadata": {},
   "outputs": [
    {
     "data": {
      "text/plain": [
       "LogisticRegression()"
      ]
     },
     "execution_count": 80,
     "metadata": {},
     "output_type": "execute_result"
    }
   ],
   "source": [
    "from sklearn.linear_model import LogisticRegression\n",
    "\n",
    "model = LogisticRegression()\n",
    "model.fit(input_data, label)"
   ]
  },
  {
   "cell_type": "code",
   "execution_count": 86,
   "id": "987923f7",
   "metadata": {},
   "outputs": [],
   "source": [
    "def prediction_input(sentence):\n",
    "    processed = pre_process(sentence)\n",
    "    input_data = vectorizer.transform([processed])\n",
    "    prediction = model.predict(input_data)\n",
    "    \n",
    "    if (prediction[0] == 1):\n",
    "        print('This is a Positive Sentiment Sentence.')\n",
    "    elif (prediction[0] == 0):\n",
    "        print('This is a Negative Sentiment Sentence.')"
   ]
  },
  {
   "cell_type": "code",
   "execution_count": 87,
   "id": "413980cd",
   "metadata": {},
   "outputs": [
    {
     "name": "stdout",
     "output_type": "stream",
     "text": [
      "What is your review: that movie was bad\n",
      "This is a Positive Sentiment Sentence.\n"
     ]
    }
   ],
   "source": [
    "review_input = input(\"What is your review: \")\n",
    "prediction_input(review_input)"
   ]
  },
  {
   "cell_type": "code",
   "execution_count": 88,
   "id": "74ed18e9",
   "metadata": {},
   "outputs": [
    {
     "name": "stdout",
     "output_type": "stream",
     "text": [
      "accuracy_score without data pre-processing = 100.00 %\n"
     ]
    }
   ],
   "source": [
    "from sklearn import metrics\n",
    "accuracy_score = metrics.accuracy_score(model.predict(input_data), label)\n",
    "print(\"accuracy_score without data pre-processing = \" + str('{:04.2f}'.format(accuracy_score*100))+\" %\")"
   ]
  }
 ],
 "metadata": {
  "kernelspec": {
   "display_name": "Python 3 (ipykernel)",
   "language": "python",
   "name": "python3"
  },
  "language_info": {
   "codemirror_mode": {
    "name": "ipython",
    "version": 3
   },
   "file_extension": ".py",
   "mimetype": "text/x-python",
   "name": "python",
   "nbconvert_exporter": "python",
   "pygments_lexer": "ipython3",
   "version": "3.9.7"
  }
 },
 "nbformat": 4,
 "nbformat_minor": 5
}
