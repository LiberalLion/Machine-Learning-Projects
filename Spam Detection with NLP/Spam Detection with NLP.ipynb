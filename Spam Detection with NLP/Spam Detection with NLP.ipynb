{
 "cells": [
  {
   "cell_type": "markdown",
   "id": "6025239e",
   "metadata": {},
   "source": [
    "# SPAM Detection with Natural Language Processing\n",
    "\n",
    "In this project I try to predict if an email should be classified as spam or not."
   ]
  },
  {
   "cell_type": "code",
   "execution_count": 30,
   "id": "e1182bec",
   "metadata": {},
   "outputs": [],
   "source": [
    "import pandas as pd"
   ]
  },
  {
   "cell_type": "code",
   "execution_count": 31,
   "id": "0bf8d1f3",
   "metadata": {},
   "outputs": [
    {
     "data": {
      "text/html": [
       "<div>\n",
       "<style scoped>\n",
       "    .dataframe tbody tr th:only-of-type {\n",
       "        vertical-align: middle;\n",
       "    }\n",
       "\n",
       "    .dataframe tbody tr th {\n",
       "        vertical-align: top;\n",
       "    }\n",
       "\n",
       "    .dataframe thead th {\n",
       "        text-align: right;\n",
       "    }\n",
       "</style>\n",
       "<table border=\"1\" class=\"dataframe\">\n",
       "  <thead>\n",
       "    <tr style=\"text-align: right;\">\n",
       "      <th></th>\n",
       "      <th>Category</th>\n",
       "      <th>Message</th>\n",
       "    </tr>\n",
       "  </thead>\n",
       "  <tbody>\n",
       "    <tr>\n",
       "      <th>0</th>\n",
       "      <td>ham</td>\n",
       "      <td>Go until jurong point, crazy.. Available only ...</td>\n",
       "    </tr>\n",
       "    <tr>\n",
       "      <th>1</th>\n",
       "      <td>ham</td>\n",
       "      <td>Ok lar... Joking wif u oni...</td>\n",
       "    </tr>\n",
       "    <tr>\n",
       "      <th>2</th>\n",
       "      <td>spam</td>\n",
       "      <td>Free entry in 2 a wkly comp to win FA Cup fina...</td>\n",
       "    </tr>\n",
       "    <tr>\n",
       "      <th>3</th>\n",
       "      <td>ham</td>\n",
       "      <td>U dun say so early hor... U c already then say...</td>\n",
       "    </tr>\n",
       "    <tr>\n",
       "      <th>4</th>\n",
       "      <td>ham</td>\n",
       "      <td>Nah I don't think he goes to usf, he lives aro...</td>\n",
       "    </tr>\n",
       "  </tbody>\n",
       "</table>\n",
       "</div>"
      ],
      "text/plain": [
       "  Category                                            Message\n",
       "0      ham  Go until jurong point, crazy.. Available only ...\n",
       "1      ham                      Ok lar... Joking wif u oni...\n",
       "2     spam  Free entry in 2 a wkly comp to win FA Cup fina...\n",
       "3      ham  U dun say so early hor... U c already then say...\n",
       "4      ham  Nah I don't think he goes to usf, he lives aro..."
      ]
     },
     "execution_count": 31,
     "metadata": {},
     "output_type": "execute_result"
    }
   ],
   "source": [
    "data = pd.read_csv('spam.csv')\n",
    "\n",
    "data.head()"
   ]
  },
  {
   "cell_type": "code",
   "execution_count": 32,
   "id": "f7948e5b",
   "metadata": {},
   "outputs": [],
   "source": [
    "data.loc[data['Category']=='ham','Category'] = 0\n",
    "data.loc[data['Category']=='spam','Category'] = 1\n",
    "data['Category'] = data['Category'].astype(int)"
   ]
  },
  {
   "cell_type": "code",
   "execution_count": 33,
   "id": "aa8b3663",
   "metadata": {},
   "outputs": [],
   "source": [
    "message = data['Message']\n",
    "\n",
    "category = data['Category']"
   ]
  },
  {
   "cell_type": "markdown",
   "id": "6c4205ac",
   "metadata": {},
   "source": [
    "We save the message column to a variable called **message** and the category to a variable called **category**."
   ]
  },
  {
   "cell_type": "code",
   "execution_count": 34,
   "id": "a24998fb",
   "metadata": {},
   "outputs": [
    {
     "data": {
      "text/plain": [
       "0    Go until jurong point, crazy.. Available only ...\n",
       "1                        Ok lar... Joking wif u oni...\n",
       "2    Free entry in 2 a wkly comp to win FA Cup fina...\n",
       "3    U dun say so early hor... U c already then say...\n",
       "4    Nah I don't think he goes to usf, he lives aro...\n",
       "Name: Message, dtype: object"
      ]
     },
     "execution_count": 34,
     "metadata": {},
     "output_type": "execute_result"
    }
   ],
   "source": [
    "message.head()"
   ]
  },
  {
   "cell_type": "code",
   "execution_count": 35,
   "id": "ea8e2821",
   "metadata": {},
   "outputs": [
    {
     "data": {
      "text/plain": [
       "0    0\n",
       "1    0\n",
       "2    1\n",
       "3    0\n",
       "4    0\n",
       "Name: Category, dtype: int32"
      ]
     },
     "execution_count": 35,
     "metadata": {},
     "output_type": "execute_result"
    }
   ],
   "source": [
    "category.head()"
   ]
  },
  {
   "cell_type": "markdown",
   "id": "bca895cb",
   "metadata": {},
   "source": [
    "## Pre Processing\n",
    "Now in this section we have to process the data by:\n",
    "1. Converting all the rows to lower case.\n",
    "2. Removing stop words like i, me , you, our, your etc\n",
    "3. Removing hyperlinks,numbers,punctuations etc."
   ]
  },
  {
   "cell_type": "markdown",
   "id": "d1d96f68",
   "metadata": {},
   "source": [
    "Now we import the nltk library. NLTK is a toolkit build for working with NLP in Python. It provides us various text processing libraries with a lot of test datasets."
   ]
  },
  {
   "cell_type": "code",
   "execution_count": 36,
   "id": "b3f0e127",
   "metadata": {},
   "outputs": [],
   "source": [
    "import nltk\n",
    "import re\n",
    "import string"
   ]
  },
  {
   "cell_type": "code",
   "execution_count": 37,
   "id": "2122a282",
   "metadata": {},
   "outputs": [
    {
     "name": "stderr",
     "output_type": "stream",
     "text": [
      "[nltk_data] Downloading package stopwords to C:\\Users\\IFEANYI\n",
      "[nltk_data]     PC\\AppData\\Roaming\\nltk_data...\n",
      "[nltk_data]   Package stopwords is already up-to-date!\n"
     ]
    }
   ],
   "source": [
    "nltk.download('stopwords')\n",
    "\n",
    "stop_words = nltk.corpus.stopwords.words('english')"
   ]
  },
  {
   "cell_type": "markdown",
   "id": "0be6f194",
   "metadata": {},
   "source": [
    "We download the stopwords we want to remove from the dataset."
   ]
  },
  {
   "cell_type": "code",
   "execution_count": 38,
   "id": "6a7613db",
   "metadata": {},
   "outputs": [
    {
     "name": "stderr",
     "output_type": "stream",
     "text": [
      "[nltk_data] Downloading package punkt to C:\\Users\\IFEANYI\n",
      "[nltk_data]     PC\\AppData\\Roaming\\nltk_data...\n",
      "[nltk_data]   Package punkt is already up-to-date!\n"
     ]
    }
   ],
   "source": [
    "nltk.download('punkt')\n",
    "\n",
    "from nltk.tokenize import word_tokenize"
   ]
  },
  {
   "cell_type": "code",
   "execution_count": 39,
   "id": "89adf866",
   "metadata": {},
   "outputs": [],
   "source": [
    "def pre_process(txt):\n",
    "    lowered_text = txt.lower()\n",
    "    \n",
    "    removed_numbers = re.sub(r'\\d+','',lowered_text) # re. is for regular expressions. Substitutes digits with an empty string.\n",
    "    \n",
    "    removed_punctuation = removed_numbers.translate(str.maketrans('','',string.punctuation)) # This removes punctuation from the text and replaces it with an empty string\n",
    "    \n",
    "    # now we split the text to obtain tokens and then remove the stopwords.\n",
    "    \n",
    "    word_tokens = word_tokenize(removed_punctuation)\n",
    "    \n",
    "    processed_text = ''.join([word for word in word_tokens if word not in stop_words])\n",
    "    \n",
    "    return processed_text"
   ]
  },
  {
   "cell_type": "code",
   "execution_count": 40,
   "id": "2c88cb08",
   "metadata": {},
   "outputs": [
    {
     "data": {
      "text/plain": [
       "0       gojurongpointcrazyavailablebugisngreatworldlae...\n",
       "1                                      oklarjokingwifuoni\n",
       "2       freeentrywklycompwinfacupfinaltktsstmaytextfar...\n",
       "3                             udunsayearlyhorucalreadysay\n",
       "4                    nahdontthinkgoesusflivesaroundthough\n",
       "                              ...                        \n",
       "5567    ndtimetriedcontactuu£poundprizeclaimeasycallpp...\n",
       "5568                               übgoingesplanadefrhome\n",
       "5569                             pitymoodsoanysuggestions\n",
       "5570    guybitchingactedlikeidinterestedbuyingsomethin...\n",
       "5571                                         rofltruename\n",
       "Name: Message, Length: 5572, dtype: object"
      ]
     },
     "execution_count": 40,
     "metadata": {},
     "output_type": "execute_result"
    }
   ],
   "source": [
    "processed = message.apply(pre_process) #.apply applies a function across a pandas dataframe.\n",
    "\n",
    "processed"
   ]
  },
  {
   "cell_type": "markdown",
   "id": "6300160a",
   "metadata": {},
   "source": [
    "We have now processed the text but we still need to tokenize it."
   ]
  },
  {
   "cell_type": "code",
   "execution_count": 41,
   "id": "974223c6",
   "metadata": {},
   "outputs": [
    {
     "data": {
      "text/plain": [
       "<5572x5315 sparse matrix of type '<class 'numpy.int64'>'\n",
       "\twith 5965 stored elements in Compressed Sparse Row format>"
      ]
     },
     "execution_count": 41,
     "metadata": {},
     "output_type": "execute_result"
    }
   ],
   "source": [
    "from sklearn.feature_extraction.text import CountVectorizer\n",
    "\n",
    "vectorizer = CountVectorizer()\n",
    "\n",
    "input_data = vectorizer.fit_transform(processed)\n",
    "input_data"
   ]
  },
  {
   "cell_type": "markdown",
   "id": "ec802dea",
   "metadata": {},
   "source": [
    "We have now created our sparse matrix with number of reviews as rows(5572) and all the words in the dataset as columns after removing the stopwords(5965)"
   ]
  },
  {
   "cell_type": "code",
   "execution_count": 42,
   "id": "39d2013e",
   "metadata": {},
   "outputs": [
    {
     "name": "stdout",
     "output_type": "stream",
     "text": [
      "  (0, 1304)\t1\n",
      "  (1, 3121)\t1\n",
      "  (2, 1130)\t1\n",
      "  (3, 4467)\t1\n",
      "  (4, 2804)\t1\n",
      "  (5, 1142)\t1\n",
      "  (5, 3497)\t1\n",
      "  (6, 1015)\t1\n",
      "  (7, 3278)\t1\n",
      "  (8, 4922)\t1\n",
      "  (8, 3436)\t1\n",
      "  (9, 2729)\t1\n",
      "  (10, 2065)\t1\n",
      "  (11, 3829)\t1\n",
      "  (12, 4594)\t1\n",
      "  (12, 3435)\t1\n",
      "  (13, 2178)\t1\n",
      "  (14, 696)\t1\n",
      "  (15, 5027)\t1\n",
      "  (16, 2999)\t1\n",
      "  (17, 971)\t1\n",
      "  (18, 1087)\t1\n",
      "  (18, 4080)\t1\n",
      "  (18, 4079)\t1\n",
      "  (19, 988)\t1\n",
      "  :\t:\n",
      "  (5548, 4416)\t1\n",
      "  (5549, 2338)\t1\n",
      "  (5550, 626)\t1\n",
      "  (5551, 4870)\t1\n",
      "  (5552, 3628)\t1\n",
      "  (5553, 1519)\t1\n",
      "  (5554, 4843)\t1\n",
      "  (5555, 5118)\t1\n",
      "  (5556, 5178)\t1\n",
      "  (5557, 2648)\t1\n",
      "  (5558, 3905)\t1\n",
      "  (5559, 183)\t1\n",
      "  (5560, 158)\t1\n",
      "  (5561, 1229)\t1\n",
      "  (5562, 3135)\t1\n",
      "  (5563, 178)\t1\n",
      "  (5564, 886)\t1\n",
      "  (5565, 1962)\t1\n",
      "  (5566, 3556)\t1\n",
      "  (5567, 2817)\t1\n",
      "  (5567, 3390)\t1\n",
      "  (5568, 5273)\t1\n",
      "  (5569, 3301)\t1\n",
      "  (5570, 1484)\t1\n",
      "  (5571, 3593)\t1\n"
     ]
    }
   ],
   "source": [
    "print(input_data)"
   ]
  },
  {
   "cell_type": "markdown",
   "id": "7e59655a",
   "metadata": {},
   "source": [
    "Now we can feed the matrix to a machine learning model. In this case we'll use the Logistic Regression model since we are trying to classify it into positive or negative."
   ]
  },
  {
   "cell_type": "code",
   "execution_count": 43,
   "id": "be71817c",
   "metadata": {},
   "outputs": [
    {
     "data": {
      "text/plain": [
       "LogisticRegression()"
      ]
     },
     "execution_count": 43,
     "metadata": {},
     "output_type": "execute_result"
    }
   ],
   "source": [
    "from sklearn.linear_model import LogisticRegression\n",
    "\n",
    "model = LogisticRegression()\n",
    "model.fit(input_data, category)"
   ]
  },
  {
   "cell_type": "code",
   "execution_count": 60,
   "id": "5c6133a6",
   "metadata": {},
   "outputs": [],
   "source": [
    "def prediction_input(sentence):\n",
    "    processed = pre_process(sentence)\n",
    "    input_data = vectorizer.transform([processed])\n",
    "    prediction = model.predict(input_data)\n",
    "    \n",
    "    if (prediction[0] == 0):\n",
    "        print('This is Spam.')\n",
    "    else:\n",
    "        print('This is not Spam.')"
   ]
  },
  {
   "cell_type": "code",
   "execution_count": 61,
   "id": "0eeae0a5",
   "metadata": {},
   "outputs": [
    {
     "name": "stdout",
     "output_type": "stream",
     "text": [
      "This is Spam.\n"
     ]
    }
   ],
   "source": [
    "prediction_input(\"This is meant to be today\")"
   ]
  },
  {
   "cell_type": "code",
   "execution_count": 62,
   "id": "5bd45e74",
   "metadata": {},
   "outputs": [
    {
     "name": "stdout",
     "output_type": "stream",
     "text": [
      "This is Spam.\n"
     ]
    }
   ],
   "source": [
    "prediction_input(\"Send and recieve emails\")"
   ]
  },
  {
   "cell_type": "code",
   "execution_count": null,
   "id": "a4e9be6d",
   "metadata": {},
   "outputs": [],
   "source": []
  }
 ],
 "metadata": {
  "kernelspec": {
   "display_name": "Python 3 (ipykernel)",
   "language": "python",
   "name": "python3"
  },
  "language_info": {
   "codemirror_mode": {
    "name": "ipython",
    "version": 3
   },
   "file_extension": ".py",
   "mimetype": "text/x-python",
   "name": "python",
   "nbconvert_exporter": "python",
   "pygments_lexer": "ipython3",
   "version": "3.9.7"
  }
 },
 "nbformat": 4,
 "nbformat_minor": 5
}
