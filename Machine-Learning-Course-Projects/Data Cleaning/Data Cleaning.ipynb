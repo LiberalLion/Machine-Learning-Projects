{
 "cells": [
  {
   "cell_type": "markdown",
   "id": "91297a33",
   "metadata": {},
   "source": [
    "# Data Cleaning\n",
    "In this notebook I used pandas library to demonstrate how to clean a dataset that has missing values and irrelevant data. "
   ]
  },
  {
   "cell_type": "markdown",
   "id": "09ce2b52",
   "metadata": {},
   "source": [
    "Import the **pandas** library so the dataset 'house_price.csv' can be read into the notebook."
   ]
  },
  {
   "cell_type": "code",
   "execution_count": 29,
   "id": "5a2c3b0b",
   "metadata": {},
   "outputs": [],
   "source": [
    "import pandas as pd\n",
    "df = pd.read_csv(\"house_price.csv\")"
   ]
  },
  {
   "cell_type": "markdown",
   "id": "9c91d41a",
   "metadata": {},
   "source": [
    "The code **df.head** displays the first 5 rows of the dataset."
   ]
  },
  {
   "cell_type": "code",
   "execution_count": 30,
   "id": "3d09ab96",
   "metadata": {},
   "outputs": [
    {
     "data": {
      "text/html": [
       "<div>\n",
       "<style scoped>\n",
       "    .dataframe tbody tr th:only-of-type {\n",
       "        vertical-align: middle;\n",
       "    }\n",
       "\n",
       "    .dataframe tbody tr th {\n",
       "        vertical-align: top;\n",
       "    }\n",
       "\n",
       "    .dataframe thead th {\n",
       "        text-align: right;\n",
       "    }\n",
       "</style>\n",
       "<table border=\"1\" class=\"dataframe\">\n",
       "  <thead>\n",
       "    <tr style=\"text-align: right;\">\n",
       "      <th></th>\n",
       "      <th>id</th>\n",
       "      <th>address</th>\n",
       "      <th>city</th>\n",
       "      <th>state</th>\n",
       "      <th>zipcode</th>\n",
       "      <th>latitude</th>\n",
       "      <th>longitude</th>\n",
       "      <th>bedrooms</th>\n",
       "      <th>bathrooms</th>\n",
       "      <th>rooms</th>\n",
       "      <th>squareFootage</th>\n",
       "      <th>lotSize</th>\n",
       "      <th>yearBuilt</th>\n",
       "      <th>lastSaleDate</th>\n",
       "      <th>lastSaleAmount</th>\n",
       "      <th>priorSaleDate</th>\n",
       "      <th>priorSaleAmount</th>\n",
       "      <th>estimated_value</th>\n",
       "    </tr>\n",
       "  </thead>\n",
       "  <tbody>\n",
       "    <tr>\n",
       "      <th>0</th>\n",
       "      <td>39525749</td>\n",
       "      <td>8171 E 84th Ave</td>\n",
       "      <td>Denver</td>\n",
       "      <td>CO</td>\n",
       "      <td>80022</td>\n",
       "      <td>39.849160</td>\n",
       "      <td>-104.893468</td>\n",
       "      <td>3</td>\n",
       "      <td>2.0</td>\n",
       "      <td>6</td>\n",
       "      <td>1378</td>\n",
       "      <td>9968</td>\n",
       "      <td>2003.0</td>\n",
       "      <td>2009-12-17</td>\n",
       "      <td>75000</td>\n",
       "      <td>2004-05-13</td>\n",
       "      <td>165700.0</td>\n",
       "      <td>239753</td>\n",
       "    </tr>\n",
       "    <tr>\n",
       "      <th>1</th>\n",
       "      <td>184578398</td>\n",
       "      <td>10556 Wheeling St</td>\n",
       "      <td>Denver</td>\n",
       "      <td>CO</td>\n",
       "      <td>80022</td>\n",
       "      <td>39.888020</td>\n",
       "      <td>-104.830930</td>\n",
       "      <td>2</td>\n",
       "      <td>2.0</td>\n",
       "      <td>6</td>\n",
       "      <td>1653</td>\n",
       "      <td>6970</td>\n",
       "      <td>2004.0</td>\n",
       "      <td>2004-09-23</td>\n",
       "      <td>216935</td>\n",
       "      <td>NaN</td>\n",
       "      <td>NaN</td>\n",
       "      <td>343963</td>\n",
       "    </tr>\n",
       "    <tr>\n",
       "      <th>2</th>\n",
       "      <td>184430015</td>\n",
       "      <td>3190 Wadsworth Blvd</td>\n",
       "      <td>Denver</td>\n",
       "      <td>CO</td>\n",
       "      <td>80033</td>\n",
       "      <td>39.761710</td>\n",
       "      <td>-105.081070</td>\n",
       "      <td>3</td>\n",
       "      <td>1.0</td>\n",
       "      <td>0</td>\n",
       "      <td>1882</td>\n",
       "      <td>23875</td>\n",
       "      <td>1917.0</td>\n",
       "      <td>2008-04-03</td>\n",
       "      <td>330000</td>\n",
       "      <td>NaN</td>\n",
       "      <td>NaN</td>\n",
       "      <td>488840</td>\n",
       "    </tr>\n",
       "    <tr>\n",
       "      <th>3</th>\n",
       "      <td>155129946</td>\n",
       "      <td>3040 Wadsworth Blvd</td>\n",
       "      <td>Denver</td>\n",
       "      <td>CO</td>\n",
       "      <td>80033</td>\n",
       "      <td>39.760780</td>\n",
       "      <td>-105.081060</td>\n",
       "      <td>4</td>\n",
       "      <td>3.0</td>\n",
       "      <td>0</td>\n",
       "      <td>2400</td>\n",
       "      <td>11500</td>\n",
       "      <td>1956.0</td>\n",
       "      <td>2008-12-02</td>\n",
       "      <td>185000</td>\n",
       "      <td>2008-06-27</td>\n",
       "      <td>0.0</td>\n",
       "      <td>494073</td>\n",
       "    </tr>\n",
       "    <tr>\n",
       "      <th>4</th>\n",
       "      <td>245107</td>\n",
       "      <td>5615 S Eaton St</td>\n",
       "      <td>Denver</td>\n",
       "      <td>CO</td>\n",
       "      <td>80123</td>\n",
       "      <td>39.616181</td>\n",
       "      <td>-105.058812</td>\n",
       "      <td>3</td>\n",
       "      <td>4.0</td>\n",
       "      <td>8</td>\n",
       "      <td>2305</td>\n",
       "      <td>5600</td>\n",
       "      <td>1998.0</td>\n",
       "      <td>2012-07-18</td>\n",
       "      <td>308000</td>\n",
       "      <td>2011-12-29</td>\n",
       "      <td>0.0</td>\n",
       "      <td>513676</td>\n",
       "    </tr>\n",
       "  </tbody>\n",
       "</table>\n",
       "</div>"
      ],
      "text/plain": [
       "          id              address    city state  zipcode   latitude  \\\n",
       "0   39525749      8171 E 84th Ave  Denver    CO    80022  39.849160   \n",
       "1  184578398    10556 Wheeling St  Denver    CO    80022  39.888020   \n",
       "2  184430015  3190 Wadsworth Blvd  Denver    CO    80033  39.761710   \n",
       "3  155129946  3040 Wadsworth Blvd  Denver    CO    80033  39.760780   \n",
       "4     245107      5615 S Eaton St  Denver    CO    80123  39.616181   \n",
       "\n",
       "    longitude  bedrooms  bathrooms  rooms  squareFootage  lotSize  yearBuilt  \\\n",
       "0 -104.893468         3        2.0      6           1378     9968     2003.0   \n",
       "1 -104.830930         2        2.0      6           1653     6970     2004.0   \n",
       "2 -105.081070         3        1.0      0           1882    23875     1917.0   \n",
       "3 -105.081060         4        3.0      0           2400    11500     1956.0   \n",
       "4 -105.058812         3        4.0      8           2305     5600     1998.0   \n",
       "\n",
       "  lastSaleDate  lastSaleAmount priorSaleDate  priorSaleAmount  estimated_value  \n",
       "0   2009-12-17           75000    2004-05-13         165700.0           239753  \n",
       "1   2004-09-23          216935           NaN              NaN           343963  \n",
       "2   2008-04-03          330000           NaN              NaN           488840  \n",
       "3   2008-12-02          185000    2008-06-27              0.0           494073  \n",
       "4   2012-07-18          308000    2011-12-29              0.0           513676  "
      ]
     },
     "execution_count": 30,
     "metadata": {},
     "output_type": "execute_result"
    }
   ],
   "source": [
    "df.head()"
   ]
  },
  {
   "cell_type": "markdown",
   "id": "fdaa9591",
   "metadata": {},
   "source": [
    "**df.info()** Shows basic information about the dataset such as number of columns, data type, name of columns etc."
   ]
  },
  {
   "cell_type": "code",
   "execution_count": 31,
   "id": "51a3af0d",
   "metadata": {},
   "outputs": [
    {
     "name": "stdout",
     "output_type": "stream",
     "text": [
      "<class 'pandas.core.frame.DataFrame'>\n",
      "RangeIndex: 15000 entries, 0 to 14999\n",
      "Data columns (total 18 columns):\n",
      " #   Column           Non-Null Count  Dtype  \n",
      "---  ------           --------------  -----  \n",
      " 0   id               15000 non-null  int64  \n",
      " 1   address          15000 non-null  object \n",
      " 2   city             15000 non-null  object \n",
      " 3   state            15000 non-null  object \n",
      " 4   zipcode          15000 non-null  int64  \n",
      " 5   latitude         14985 non-null  float64\n",
      " 6   longitude        14985 non-null  float64\n",
      " 7   bedrooms         15000 non-null  int64  \n",
      " 8   bathrooms        15000 non-null  float64\n",
      " 9   rooms            15000 non-null  int64  \n",
      " 10  squareFootage    15000 non-null  int64  \n",
      " 11  lotSize          15000 non-null  int64  \n",
      " 12  yearBuilt        14999 non-null  float64\n",
      " 13  lastSaleDate     15000 non-null  object \n",
      " 14  lastSaleAmount   15000 non-null  int64  \n",
      " 15  priorSaleDate    11173 non-null  object \n",
      " 16  priorSaleAmount  11287 non-null  float64\n",
      " 17  estimated_value  15000 non-null  int64  \n",
      "dtypes: float64(5), int64(8), object(5)\n",
      "memory usage: 2.1+ MB\n"
     ]
    }
   ],
   "source": [
    "df.info()"
   ]
  },
  {
   "cell_type": "markdown",
   "id": "4eb68536",
   "metadata": {},
   "source": [
    "**df.shape** Shows the number of rows and columns in the dataset. In this case we have 15000 rows and 18 columns."
   ]
  },
  {
   "cell_type": "code",
   "execution_count": 32,
   "id": "4173052c",
   "metadata": {},
   "outputs": [
    {
     "data": {
      "text/plain": [
       "(15000, 18)"
      ]
     },
     "execution_count": 32,
     "metadata": {},
     "output_type": "execute_result"
    }
   ],
   "source": [
    "df.shape"
   ]
  },
  {
   "cell_type": "markdown",
   "id": "cd01972b",
   "metadata": {},
   "source": [
    "**df.columns** Lists out all the column names in the dataset."
   ]
  },
  {
   "cell_type": "code",
   "execution_count": 33,
   "id": "080b491a",
   "metadata": {},
   "outputs": [
    {
     "data": {
      "text/plain": [
       "Index(['id', 'address', 'city', 'state', 'zipcode', 'latitude', 'longitude',\n",
       "       'bedrooms', 'bathrooms', 'rooms', 'squareFootage', 'lotSize',\n",
       "       'yearBuilt', 'lastSaleDate', 'lastSaleAmount', 'priorSaleDate',\n",
       "       'priorSaleAmount', 'estimated_value'],\n",
       "      dtype='object')"
      ]
     },
     "execution_count": 33,
     "metadata": {},
     "output_type": "execute_result"
    }
   ],
   "source": [
    "df.columns"
   ]
  },
  {
   "cell_type": "markdown",
   "id": "99971829",
   "metadata": {},
   "source": [
    "**df.isnull().sum()** is used to show how many null values are in each column of the dataset."
   ]
  },
  {
   "cell_type": "code",
   "execution_count": 34,
   "id": "e22ab687",
   "metadata": {},
   "outputs": [
    {
     "data": {
      "text/plain": [
       "id                    0\n",
       "address               0\n",
       "city                  0\n",
       "state                 0\n",
       "zipcode               0\n",
       "latitude             15\n",
       "longitude            15\n",
       "bedrooms              0\n",
       "bathrooms             0\n",
       "rooms                 0\n",
       "squareFootage         0\n",
       "lotSize               0\n",
       "yearBuilt             1\n",
       "lastSaleDate          0\n",
       "lastSaleAmount        0\n",
       "priorSaleDate      3827\n",
       "priorSaleAmount    3713\n",
       "estimated_value       0\n",
       "dtype: int64"
      ]
     },
     "execution_count": 34,
     "metadata": {},
     "output_type": "execute_result"
    }
   ],
   "source": [
    "df.isnull().sum()"
   ]
  },
  {
   "cell_type": "code",
   "execution_count": 35,
   "id": "c13c9415",
   "metadata": {},
   "outputs": [],
   "source": [
    "df.dropna(axis=\"rows\", inplace=True)"
   ]
  },
  {
   "cell_type": "markdown",
   "id": "f9af7a2e",
   "metadata": {},
   "source": [
    "The code above drops any row with null values. if **inplace** is set to false then code will not be saved to memory."
   ]
  },
  {
   "cell_type": "markdown",
   "id": "4fadd9af",
   "metadata": {},
   "source": [
    "**df.describe()** Gives us basic information such as the count, mean, minimum value, maximum value etc of column containing numerical values in the dataset."
   ]
  },
  {
   "cell_type": "code",
   "execution_count": 36,
   "id": "14f63d93",
   "metadata": {},
   "outputs": [
    {
     "data": {
      "text/html": [
       "<div>\n",
       "<style scoped>\n",
       "    .dataframe tbody tr th:only-of-type {\n",
       "        vertical-align: middle;\n",
       "    }\n",
       "\n",
       "    .dataframe tbody tr th {\n",
       "        vertical-align: top;\n",
       "    }\n",
       "\n",
       "    .dataframe thead th {\n",
       "        text-align: right;\n",
       "    }\n",
       "</style>\n",
       "<table border=\"1\" class=\"dataframe\">\n",
       "  <thead>\n",
       "    <tr style=\"text-align: right;\">\n",
       "      <th></th>\n",
       "      <th>id</th>\n",
       "      <th>zipcode</th>\n",
       "      <th>latitude</th>\n",
       "      <th>longitude</th>\n",
       "      <th>bedrooms</th>\n",
       "      <th>bathrooms</th>\n",
       "      <th>rooms</th>\n",
       "      <th>squareFootage</th>\n",
       "      <th>lotSize</th>\n",
       "      <th>yearBuilt</th>\n",
       "      <th>lastSaleAmount</th>\n",
       "      <th>priorSaleAmount</th>\n",
       "      <th>estimated_value</th>\n",
       "    </tr>\n",
       "  </thead>\n",
       "  <tbody>\n",
       "    <tr>\n",
       "      <th>count</th>\n",
       "      <td>1.107800e+04</td>\n",
       "      <td>11078.000000</td>\n",
       "      <td>11078.000000</td>\n",
       "      <td>11078.000000</td>\n",
       "      <td>11078.000000</td>\n",
       "      <td>11078.000000</td>\n",
       "      <td>11078.000000</td>\n",
       "      <td>11078.000000</td>\n",
       "      <td>11078.000000</td>\n",
       "      <td>11078.000000</td>\n",
       "      <td>1.107800e+04</td>\n",
       "      <td>1.107800e+04</td>\n",
       "      <td>1.107800e+04</td>\n",
       "    </tr>\n",
       "    <tr>\n",
       "      <th>mean</th>\n",
       "      <td>4.358578e+07</td>\n",
       "      <td>80204.998646</td>\n",
       "      <td>39.741302</td>\n",
       "      <td>-104.963535</td>\n",
       "      <td>2.682434</td>\n",
       "      <td>2.211455</td>\n",
       "      <td>6.117350</td>\n",
       "      <td>1481.629626</td>\n",
       "      <td>5685.028344</td>\n",
       "      <td>1929.107149</td>\n",
       "      <td>4.228663e+05</td>\n",
       "      <td>2.625168e+05</td>\n",
       "      <td>6.319267e+05</td>\n",
       "    </tr>\n",
       "    <tr>\n",
       "      <th>std</th>\n",
       "      <td>5.604005e+07</td>\n",
       "      <td>9.219143</td>\n",
       "      <td>0.023259</td>\n",
       "      <td>0.039622</td>\n",
       "      <td>0.878911</td>\n",
       "      <td>1.159950</td>\n",
       "      <td>1.933755</td>\n",
       "      <td>801.752478</td>\n",
       "      <td>2503.964622</td>\n",
       "      <td>29.805896</td>\n",
       "      <td>5.802578e+05</td>\n",
       "      <td>3.401258e+05</td>\n",
       "      <td>5.012916e+05</td>\n",
       "    </tr>\n",
       "    <tr>\n",
       "      <th>min</th>\n",
       "      <td>1.433670e+05</td>\n",
       "      <td>80022.000000</td>\n",
       "      <td>39.614539</td>\n",
       "      <td>-105.108407</td>\n",
       "      <td>0.000000</td>\n",
       "      <td>0.000000</td>\n",
       "      <td>0.000000</td>\n",
       "      <td>350.000000</td>\n",
       "      <td>832.000000</td>\n",
       "      <td>1874.000000</td>\n",
       "      <td>5.000000e+02</td>\n",
       "      <td>0.000000e+00</td>\n",
       "      <td>1.477670e+05</td>\n",
       "    </tr>\n",
       "    <tr>\n",
       "      <th>25%</th>\n",
       "      <td>8.552068e+06</td>\n",
       "      <td>80205.000000</td>\n",
       "      <td>39.728104</td>\n",
       "      <td>-104.978427</td>\n",
       "      <td>2.000000</td>\n",
       "      <td>1.000000</td>\n",
       "      <td>5.000000</td>\n",
       "      <td>979.000000</td>\n",
       "      <td>4460.000000</td>\n",
       "      <td>1906.000000</td>\n",
       "      <td>2.235000e+05</td>\n",
       "      <td>1.140250e+05</td>\n",
       "      <td>4.018702e+05</td>\n",
       "    </tr>\n",
       "    <tr>\n",
       "      <th>50%</th>\n",
       "      <td>2.161208e+07</td>\n",
       "      <td>80206.000000</td>\n",
       "      <td>39.748909</td>\n",
       "      <td>-104.957625</td>\n",
       "      <td>3.000000</td>\n",
       "      <td>2.000000</td>\n",
       "      <td>6.000000</td>\n",
       "      <td>1240.000000</td>\n",
       "      <td>5950.000000</td>\n",
       "      <td>1925.000000</td>\n",
       "      <td>3.450000e+05</td>\n",
       "      <td>2.120000e+05</td>\n",
       "      <td>5.165625e+05</td>\n",
       "    </tr>\n",
       "    <tr>\n",
       "      <th>75%</th>\n",
       "      <td>4.618959e+07</td>\n",
       "      <td>80207.000000</td>\n",
       "      <td>39.758777</td>\n",
       "      <td>-104.936411</td>\n",
       "      <td>3.000000</td>\n",
       "      <td>3.000000</td>\n",
       "      <td>7.000000</td>\n",
       "      <td>1699.750000</td>\n",
       "      <td>6250.000000</td>\n",
       "      <td>1949.000000</td>\n",
       "      <td>4.850000e+05</td>\n",
       "      <td>3.340000e+05</td>\n",
       "      <td>6.792245e+05</td>\n",
       "    </tr>\n",
       "    <tr>\n",
       "      <th>max</th>\n",
       "      <td>2.515274e+08</td>\n",
       "      <td>80209.000000</td>\n",
       "      <td>39.849160</td>\n",
       "      <td>-104.893468</td>\n",
       "      <td>15.000000</td>\n",
       "      <td>12.000000</td>\n",
       "      <td>39.000000</td>\n",
       "      <td>10907.000000</td>\n",
       "      <td>97125.000000</td>\n",
       "      <td>2016.000000</td>\n",
       "      <td>4.560000e+07</td>\n",
       "      <td>1.600000e+07</td>\n",
       "      <td>1.014531e+07</td>\n",
       "    </tr>\n",
       "  </tbody>\n",
       "</table>\n",
       "</div>"
      ],
      "text/plain": [
       "                 id       zipcode      latitude     longitude      bedrooms  \\\n",
       "count  1.107800e+04  11078.000000  11078.000000  11078.000000  11078.000000   \n",
       "mean   4.358578e+07  80204.998646     39.741302   -104.963535      2.682434   \n",
       "std    5.604005e+07      9.219143      0.023259      0.039622      0.878911   \n",
       "min    1.433670e+05  80022.000000     39.614539   -105.108407      0.000000   \n",
       "25%    8.552068e+06  80205.000000     39.728104   -104.978427      2.000000   \n",
       "50%    2.161208e+07  80206.000000     39.748909   -104.957625      3.000000   \n",
       "75%    4.618959e+07  80207.000000     39.758777   -104.936411      3.000000   \n",
       "max    2.515274e+08  80209.000000     39.849160   -104.893468     15.000000   \n",
       "\n",
       "          bathrooms         rooms  squareFootage       lotSize     yearBuilt  \\\n",
       "count  11078.000000  11078.000000   11078.000000  11078.000000  11078.000000   \n",
       "mean       2.211455      6.117350    1481.629626   5685.028344   1929.107149   \n",
       "std        1.159950      1.933755     801.752478   2503.964622     29.805896   \n",
       "min        0.000000      0.000000     350.000000    832.000000   1874.000000   \n",
       "25%        1.000000      5.000000     979.000000   4460.000000   1906.000000   \n",
       "50%        2.000000      6.000000    1240.000000   5950.000000   1925.000000   \n",
       "75%        3.000000      7.000000    1699.750000   6250.000000   1949.000000   \n",
       "max       12.000000     39.000000   10907.000000  97125.000000   2016.000000   \n",
       "\n",
       "       lastSaleAmount  priorSaleAmount  estimated_value  \n",
       "count    1.107800e+04     1.107800e+04     1.107800e+04  \n",
       "mean     4.228663e+05     2.625168e+05     6.319267e+05  \n",
       "std      5.802578e+05     3.401258e+05     5.012916e+05  \n",
       "min      5.000000e+02     0.000000e+00     1.477670e+05  \n",
       "25%      2.235000e+05     1.140250e+05     4.018702e+05  \n",
       "50%      3.450000e+05     2.120000e+05     5.165625e+05  \n",
       "75%      4.850000e+05     3.340000e+05     6.792245e+05  \n",
       "max      4.560000e+07     1.600000e+07     1.014531e+07  "
      ]
     },
     "execution_count": 36,
     "metadata": {},
     "output_type": "execute_result"
    }
   ],
   "source": [
    "df.describe()"
   ]
  },
  {
   "cell_type": "code",
   "execution_count": 37,
   "id": "08c7f7fc",
   "metadata": {},
   "outputs": [
    {
     "name": "stdout",
     "output_type": "stream",
     "text": [
      "<class 'pandas.core.frame.DataFrame'>\n",
      "Int64Index: 11078 entries, 0 to 14999\n",
      "Data columns (total 18 columns):\n",
      " #   Column           Non-Null Count  Dtype  \n",
      "---  ------           --------------  -----  \n",
      " 0   id               11078 non-null  int64  \n",
      " 1   address          11078 non-null  object \n",
      " 2   city             11078 non-null  object \n",
      " 3   state            11078 non-null  object \n",
      " 4   zipcode          11078 non-null  int64  \n",
      " 5   latitude         11078 non-null  float64\n",
      " 6   longitude        11078 non-null  float64\n",
      " 7   bedrooms         11078 non-null  int64  \n",
      " 8   bathrooms        11078 non-null  float64\n",
      " 9   rooms            11078 non-null  int64  \n",
      " 10  squareFootage    11078 non-null  int64  \n",
      " 11  lotSize          11078 non-null  int64  \n",
      " 12  yearBuilt        11078 non-null  float64\n",
      " 13  lastSaleDate     11078 non-null  object \n",
      " 14  lastSaleAmount   11078 non-null  int64  \n",
      " 15  priorSaleDate    11078 non-null  object \n",
      " 16  priorSaleAmount  11078 non-null  float64\n",
      " 17  estimated_value  11078 non-null  int64  \n",
      "dtypes: float64(5), int64(8), object(5)\n",
      "memory usage: 1.6+ MB\n"
     ]
    }
   ],
   "source": [
    "df.info()"
   ]
  },
  {
   "cell_type": "markdown",
   "id": "f14695f1",
   "metadata": {},
   "source": [
    "We can see that after dropping the rows with missing values, the number of rows has changed from 15000 to 11078."
   ]
  },
  {
   "cell_type": "code",
   "execution_count": 38,
   "id": "dc032d15",
   "metadata": {},
   "outputs": [
    {
     "name": "stderr",
     "output_type": "stream",
     "text": [
      "C:\\ProgramData\\Anaconda3\\lib\\site-packages\\seaborn\\_decorators.py:36: FutureWarning: Pass the following variable as a keyword arg: x. From version 0.12, the only valid positional argument will be `data`, and passing other arguments without an explicit keyword will result in an error or misinterpretation.\n",
      "  warnings.warn(\n"
     ]
    },
    {
     "data": {
      "text/plain": [
       "<AxesSubplot:xlabel='estimated_value'>"
      ]
     },
     "execution_count": 38,
     "metadata": {},
     "output_type": "execute_result"
    },
    {
     "data": {
      "image/png": "[encoded data removed]",
      "text/plain": [
       "<Figure size 432x288 with 1 Axes>"
      ]
     },
     "metadata": {
      "needs_background": "light"
     },
     "output_type": "display_data"
    }
   ],
   "source": [
    "import seaborn as sns\n",
    "\n",
    "sns.boxplot(df.estimated_value)"
   ]
  },
  {
   "cell_type": "markdown",
   "id": "68f10b9b",
   "metadata": {},
   "source": [
    "The code above is used to plot a boxplot of the column **estimated_value**. The boxplot helps us to determine outliers, the mean, the maximum and minimum value."
   ]
  },
  {
   "cell_type": "code",
   "execution_count": 39,
   "id": "3b66c68e",
   "metadata": {},
   "outputs": [],
   "source": [
    "df = df[df.estimated_value <= 1000000]"
   ]
  },
  {
   "cell_type": "code",
   "execution_count": 40,
   "id": "567f3b5d",
   "metadata": {},
   "outputs": [
    {
     "data": {
      "text/plain": [
       "(10080, 18)"
      ]
     },
     "execution_count": 40,
     "metadata": {},
     "output_type": "execute_result"
    }
   ],
   "source": [
    "df.shape"
   ]
  },
  {
   "cell_type": "code",
   "execution_count": 20,
   "id": "ada9a6ed",
   "metadata": {},
   "outputs": [
    {
     "name": "stderr",
     "output_type": "stream",
     "text": [
      "C:\\ProgramData\\Anaconda3\\lib\\site-packages\\seaborn\\_decorators.py:36: FutureWarning: Pass the following variable as a keyword arg: x. From version 0.12, the only valid positional argument will be `data`, and passing other arguments without an explicit keyword will result in an error or misinterpretation.\n",
      "  warnings.warn(\n"
     ]
    },
    {
     "data": {
      "text/plain": [
       "<AxesSubplot:xlabel='estimated_value'>"
      ]
     },
     "execution_count": 20,
     "metadata": {},
     "output_type": "execute_result"
    },
    {
     "data": {
      "image/png": "[encoded data removed]",
      "text/plain": [
       "<Figure size 432x288 with 1 Axes>"
      ]
     },
     "metadata": {
      "needs_background": "light"
     },
     "output_type": "display_data"
    }
   ],
   "source": [
    "sns.boxplot(df.estimated_value)"
   ]
  },
  {
   "cell_type": "markdown",
   "id": "dd50d6e1",
   "metadata": {},
   "source": [
    "After removing the outliers using the boxplot we can now see how the data is distributed more properly."
   ]
  },
  {
   "cell_type": "code",
   "execution_count": 21,
   "id": "a29ebe25",
   "metadata": {},
   "outputs": [
    {
     "data": {
      "text/plain": [
       "<AxesSubplot:>"
      ]
     },
     "execution_count": 21,
     "metadata": {},
     "output_type": "execute_result"
    },
    {
     "data": {
      "image/png": "[encoded data removed]",
      "text/plain": [
       "<Figure size 432x288 with 1 Axes>"
      ]
     },
     "metadata": {
      "needs_background": "light"
     },
     "output_type": "display_data"
    }
   ],
   "source": [
    "df.estimated_value.hist()"
   ]
  },
  {
   "cell_type": "markdown",
   "id": "c03ae558",
   "metadata": {},
   "source": [
    "This is a histogram plot of the **estimated_value** column after removing the outliers. "
   ]
  },
  {
   "cell_type": "code",
   "execution_count": 22,
   "id": "8e2b7edc",
   "metadata": {},
   "outputs": [
    {
     "data": {
      "text/plain": [
       "<AxesSubplot:>"
      ]
     },
     "execution_count": 22,
     "metadata": {},
     "output_type": "execute_result"
    },
    {
     "data": {
      "image/png": "[encoded data removed]",
      "text/plain": [
       "<Figure size 432x288 with 1 Axes>"
      ]
     },
     "metadata": {
      "needs_background": "light"
     },
     "output_type": "display_data"
    }
   ],
   "source": [
    "df.bedrooms.hist()"
   ]
  },
  {
   "cell_type": "code",
   "execution_count": 41,
   "id": "5ca85b67",
   "metadata": {},
   "outputs": [],
   "source": [
    "df = df[['bedrooms','bathrooms','rooms','squareFootage','lotSize','yearBuilt','priorSaleAmount','estimated_value']]"
   ]
  },
  {
   "cell_type": "markdown",
   "id": "3224873c",
   "metadata": {},
   "source": [
    "The code above saves the columns to a new dataframe."
   ]
  },
  {
   "cell_type": "code",
   "execution_count": 42,
   "id": "a377bb5d",
   "metadata": {},
   "outputs": [
    {
     "data": {
      "text/plain": [
       "(10080, 8)"
      ]
     },
     "execution_count": 42,
     "metadata": {},
     "output_type": "execute_result"
    }
   ],
   "source": [
    "df.shape"
   ]
  },
  {
   "cell_type": "code",
   "execution_count": 44,
   "id": "6b0df7fd",
   "metadata": {},
   "outputs": [
    {
     "data": {
      "text/plain": [
       "bedrooms           0\n",
       "bathrooms          0\n",
       "rooms              0\n",
       "squareFootage      0\n",
       "lotSize            0\n",
       "yearBuilt          0\n",
       "priorSaleAmount    0\n",
       "estimated_value    0\n",
       "dtype: int64"
      ]
     },
     "execution_count": 44,
     "metadata": {},
     "output_type": "execute_result"
    }
   ],
   "source": [
    "df.isna().sum()"
   ]
  },
  {
   "cell_type": "markdown",
   "id": "ba48a196",
   "metadata": {},
   "source": [
    "After some data cleaning the missing values have now been removed and the data can be used for further analysis or machine learning."
   ]
  }
 ],
 "metadata": {
  "kernelspec": {
   "display_name": "Python 3 (ipykernel)",
   "language": "python",
   "name": "python3"
  },
  "language_info": {
   "codemirror_mode": {
    "name": "ipython",
    "version": 3
   },
   "file_extension": ".py",
   "mimetype": "text/x-python",
   "name": "python",
   "nbconvert_exporter": "python",
   "pygments_lexer": "ipython3",
   "version": "3.9.7"
  }
 },
 "nbformat": 4,
 "nbformat_minor": 5
}
