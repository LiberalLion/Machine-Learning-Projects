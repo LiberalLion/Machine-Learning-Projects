{
 "cells": [
  {
   "cell_type": "code",
   "execution_count": 2,
   "id": "217d9ddf",
   "metadata": {},
   "outputs": [],
   "source": [
    "import pandas as pd\n",
    "data_xls = pd.read_excel('fruit.xlsx', 'Date_Fruit_Datasets', dtype=str, index_col=None)\n",
    "data_xls.to_csv('fruit_data.csv', encoding='utf-8', index=False)"
   ]
  },
  {
   "cell_type": "code",
   "execution_count": 71,
   "id": "1c7a4dd5",
   "metadata": {},
   "outputs": [],
   "source": [
    "import numpy as np\n",
    "import matplotlib.pyplot as plt\n",
    "from sklearn.model_selection import train_test_split\n",
    "from sklearn.linear_model import LogisticRegression\n",
    "from sklearn.multiclass import OneVsOneClassifier\n",
    "import joblib"
   ]
  },
  {
   "cell_type": "code",
   "execution_count": 72,
   "id": "2b916203",
   "metadata": {},
   "outputs": [
    {
     "data": {
      "text/html": [
       "<div>\n",
       "<style scoped>\n",
       "    .dataframe tbody tr th:only-of-type {\n",
       "        vertical-align: middle;\n",
       "    }\n",
       "\n",
       "    .dataframe tbody tr th {\n",
       "        vertical-align: top;\n",
       "    }\n",
       "\n",
       "    .dataframe thead th {\n",
       "        text-align: right;\n",
       "    }\n",
       "</style>\n",
       "<table border=\"1\" class=\"dataframe\">\n",
       "  <thead>\n",
       "    <tr style=\"text-align: right;\">\n",
       "      <th></th>\n",
       "      <th>AREA</th>\n",
       "      <th>PERIMETER</th>\n",
       "      <th>MAJOR_AXIS</th>\n",
       "      <th>MINOR_AXIS</th>\n",
       "      <th>ECCENTRICITY</th>\n",
       "      <th>EQDIASQ</th>\n",
       "      <th>SOLIDITY</th>\n",
       "      <th>CONVEX_AREA</th>\n",
       "      <th>EXTENT</th>\n",
       "      <th>ASPECT_RATIO</th>\n",
       "      <th>ROUNDNESS</th>\n",
       "      <th>COMPACTNESS</th>\n",
       "      <th>SHAPEFACTOR_1</th>\n",
       "      <th>SHAPEFACTOR_2</th>\n",
       "      <th>SHAPEFACTOR_3</th>\n",
       "      <th>SHAPEFACTOR_4</th>\n",
       "      <th>Class</th>\n",
       "    </tr>\n",
       "  </thead>\n",
       "  <tbody>\n",
       "    <tr>\n",
       "      <th>0</th>\n",
       "      <td>422163</td>\n",
       "      <td>2378.908</td>\n",
       "      <td>837.8484</td>\n",
       "      <td>645.6693</td>\n",
       "      <td>0.6373</td>\n",
       "      <td>733.1539</td>\n",
       "      <td>0.9947</td>\n",
       "      <td>424428</td>\n",
       "      <td>0.7831</td>\n",
       "      <td>1.2976</td>\n",
       "      <td>0.9374</td>\n",
       "      <td>0.8750</td>\n",
       "      <td>0.0020</td>\n",
       "      <td>0.0015</td>\n",
       "      <td>0.7657</td>\n",
       "      <td>0.9936</td>\n",
       "      <td>BERHI</td>\n",
       "    </tr>\n",
       "    <tr>\n",
       "      <th>1</th>\n",
       "      <td>338136</td>\n",
       "      <td>2085.144</td>\n",
       "      <td>723.8198</td>\n",
       "      <td>595.2073</td>\n",
       "      <td>0.5690</td>\n",
       "      <td>656.1464</td>\n",
       "      <td>0.9974</td>\n",
       "      <td>339014</td>\n",
       "      <td>0.7795</td>\n",
       "      <td>1.2161</td>\n",
       "      <td>0.9773</td>\n",
       "      <td>0.9065</td>\n",
       "      <td>0.0021</td>\n",
       "      <td>0.0018</td>\n",
       "      <td>0.8218</td>\n",
       "      <td>0.9993</td>\n",
       "      <td>BERHI</td>\n",
       "    </tr>\n",
       "    <tr>\n",
       "      <th>2</th>\n",
       "      <td>526843</td>\n",
       "      <td>2647.394</td>\n",
       "      <td>940.7379</td>\n",
       "      <td>715.3638</td>\n",
       "      <td>0.6494</td>\n",
       "      <td>819.0222</td>\n",
       "      <td>0.9962</td>\n",
       "      <td>528876</td>\n",
       "      <td>0.7657</td>\n",
       "      <td>1.3150</td>\n",
       "      <td>0.9446</td>\n",
       "      <td>0.8706</td>\n",
       "      <td>0.0018</td>\n",
       "      <td>0.0014</td>\n",
       "      <td>0.7580</td>\n",
       "      <td>0.9968</td>\n",
       "      <td>BERHI</td>\n",
       "    </tr>\n",
       "    <tr>\n",
       "      <th>3</th>\n",
       "      <td>416063</td>\n",
       "      <td>2351.210</td>\n",
       "      <td>827.9804</td>\n",
       "      <td>645.2988</td>\n",
       "      <td>0.6266</td>\n",
       "      <td>727.8378</td>\n",
       "      <td>0.9948</td>\n",
       "      <td>418255</td>\n",
       "      <td>0.7759</td>\n",
       "      <td>1.2831</td>\n",
       "      <td>0.9458</td>\n",
       "      <td>0.8791</td>\n",
       "      <td>0.0020</td>\n",
       "      <td>0.0016</td>\n",
       "      <td>0.7727</td>\n",
       "      <td>0.9915</td>\n",
       "      <td>BERHI</td>\n",
       "    </tr>\n",
       "    <tr>\n",
       "      <th>4</th>\n",
       "      <td>347562</td>\n",
       "      <td>2160.354</td>\n",
       "      <td>763.9877</td>\n",
       "      <td>582.8359</td>\n",
       "      <td>0.6465</td>\n",
       "      <td>665.2291</td>\n",
       "      <td>0.9908</td>\n",
       "      <td>350797</td>\n",
       "      <td>0.7569</td>\n",
       "      <td>1.3108</td>\n",
       "      <td>0.9358</td>\n",
       "      <td>0.8707</td>\n",
       "      <td>0.0022</td>\n",
       "      <td>0.0017</td>\n",
       "      <td>0.7582</td>\n",
       "      <td>0.9938</td>\n",
       "      <td>BERHI</td>\n",
       "    </tr>\n",
       "  </tbody>\n",
       "</table>\n",
       "</div>"
      ],
      "text/plain": [
       "     AREA  PERIMETER  MAJOR_AXIS  MINOR_AXIS  ECCENTRICITY   EQDIASQ  \\\n",
       "0  422163   2378.908    837.8484    645.6693        0.6373  733.1539   \n",
       "1  338136   2085.144    723.8198    595.2073        0.5690  656.1464   \n",
       "2  526843   2647.394    940.7379    715.3638        0.6494  819.0222   \n",
       "3  416063   2351.210    827.9804    645.2988        0.6266  727.8378   \n",
       "4  347562   2160.354    763.9877    582.8359        0.6465  665.2291   \n",
       "\n",
       "   SOLIDITY  CONVEX_AREA  EXTENT  ASPECT_RATIO  ROUNDNESS  COMPACTNESS  \\\n",
       "0    0.9947       424428  0.7831        1.2976     0.9374       0.8750   \n",
       "1    0.9974       339014  0.7795        1.2161     0.9773       0.9065   \n",
       "2    0.9962       528876  0.7657        1.3150     0.9446       0.8706   \n",
       "3    0.9948       418255  0.7759        1.2831     0.9458       0.8791   \n",
       "4    0.9908       350797  0.7569        1.3108     0.9358       0.8707   \n",
       "\n",
       "   SHAPEFACTOR_1  SHAPEFACTOR_2  SHAPEFACTOR_3  SHAPEFACTOR_4  Class  \n",
       "0         0.0020         0.0015         0.7657         0.9936  BERHI  \n",
       "1         0.0021         0.0018         0.8218         0.9993  BERHI  \n",
       "2         0.0018         0.0014         0.7580         0.9968  BERHI  \n",
       "3         0.0020         0.0016         0.7727         0.9915  BERHI  \n",
       "4         0.0022         0.0017         0.7582         0.9938  BERHI  "
      ]
     },
     "execution_count": 72,
     "metadata": {},
     "output_type": "execute_result"
    }
   ],
   "source": [
    "df = pd.read_csv('fruit_data.csv')\n",
    "df.head()"
   ]
  },
  {
   "cell_type": "code",
   "execution_count": 73,
   "id": "cadd3eb4",
   "metadata": {},
   "outputs": [
    {
     "name": "stdout",
     "output_type": "stream",
     "text": [
      "<class 'pandas.core.frame.DataFrame'>\n",
      "RangeIndex: 898 entries, 0 to 897\n",
      "Data columns (total 17 columns):\n",
      " #   Column         Non-Null Count  Dtype  \n",
      "---  ------         --------------  -----  \n",
      " 0   AREA           898 non-null    int64  \n",
      " 1   PERIMETER      898 non-null    float64\n",
      " 2   MAJOR_AXIS     898 non-null    float64\n",
      " 3   MINOR_AXIS     898 non-null    float64\n",
      " 4   ECCENTRICITY   898 non-null    float64\n",
      " 5   EQDIASQ        898 non-null    float64\n",
      " 6   SOLIDITY       898 non-null    float64\n",
      " 7   CONVEX_AREA    898 non-null    int64  \n",
      " 8   EXTENT         898 non-null    float64\n",
      " 9   ASPECT_RATIO   898 non-null    float64\n",
      " 10  ROUNDNESS      898 non-null    float64\n",
      " 11  COMPACTNESS    898 non-null    float64\n",
      " 12  SHAPEFACTOR_1  898 non-null    float64\n",
      " 13  SHAPEFACTOR_2  898 non-null    float64\n",
      " 14  SHAPEFACTOR_3  898 non-null    float64\n",
      " 15  SHAPEFACTOR_4  898 non-null    float64\n",
      " 16  Class          898 non-null    object \n",
      "dtypes: float64(14), int64(2), object(1)\n",
      "memory usage: 119.4+ KB\n"
     ]
    }
   ],
   "source": [
    "df.info()"
   ]
  },
  {
   "cell_type": "code",
   "execution_count": 74,
   "id": "0deed4c6",
   "metadata": {},
   "outputs": [
    {
     "data": {
      "text/plain": [
       "(898, 17)"
      ]
     },
     "execution_count": 74,
     "metadata": {},
     "output_type": "execute_result"
    }
   ],
   "source": [
    "df.shape"
   ]
  },
  {
   "cell_type": "code",
   "execution_count": 75,
   "id": "ffe1f995",
   "metadata": {},
   "outputs": [
    {
     "data": {
      "text/html": [
       "<div>\n",
       "<style scoped>\n",
       "    .dataframe tbody tr th:only-of-type {\n",
       "        vertical-align: middle;\n",
       "    }\n",
       "\n",
       "    .dataframe tbody tr th {\n",
       "        vertical-align: top;\n",
       "    }\n",
       "\n",
       "    .dataframe thead th {\n",
       "        text-align: right;\n",
       "    }\n",
       "</style>\n",
       "<table border=\"1\" class=\"dataframe\">\n",
       "  <thead>\n",
       "    <tr style=\"text-align: right;\">\n",
       "      <th></th>\n",
       "      <th>AREA</th>\n",
       "      <th>PERIMETER</th>\n",
       "      <th>MAJOR_AXIS</th>\n",
       "      <th>MINOR_AXIS</th>\n",
       "      <th>ECCENTRICITY</th>\n",
       "      <th>EQDIASQ</th>\n",
       "      <th>SOLIDITY</th>\n",
       "      <th>CONVEX_AREA</th>\n",
       "      <th>EXTENT</th>\n",
       "      <th>ASPECT_RATIO</th>\n",
       "      <th>ROUNDNESS</th>\n",
       "      <th>COMPACTNESS</th>\n",
       "      <th>SHAPEFACTOR_1</th>\n",
       "      <th>SHAPEFACTOR_2</th>\n",
       "      <th>SHAPEFACTOR_3</th>\n",
       "      <th>SHAPEFACTOR_4</th>\n",
       "    </tr>\n",
       "  </thead>\n",
       "  <tbody>\n",
       "    <tr>\n",
       "      <th>count</th>\n",
       "      <td>898.000000</td>\n",
       "      <td>898.000000</td>\n",
       "      <td>898.000000</td>\n",
       "      <td>898.000000</td>\n",
       "      <td>898.000000</td>\n",
       "      <td>898.000000</td>\n",
       "      <td>898.000000</td>\n",
       "      <td>898.000000</td>\n",
       "      <td>898.000000</td>\n",
       "      <td>898.000000</td>\n",
       "      <td>898.000000</td>\n",
       "      <td>898.000000</td>\n",
       "      <td>898.000000</td>\n",
       "      <td>898.000000</td>\n",
       "      <td>898.000000</td>\n",
       "      <td>898.000000</td>\n",
       "    </tr>\n",
       "    <tr>\n",
       "      <th>mean</th>\n",
       "      <td>298295.207127</td>\n",
       "      <td>2057.660953</td>\n",
       "      <td>750.811994</td>\n",
       "      <td>495.872785</td>\n",
       "      <td>0.737468</td>\n",
       "      <td>604.577938</td>\n",
       "      <td>0.981840</td>\n",
       "      <td>303845.592428</td>\n",
       "      <td>0.736267</td>\n",
       "      <td>2.131102</td>\n",
       "      <td>0.857720</td>\n",
       "      <td>0.807190</td>\n",
       "      <td>0.003428</td>\n",
       "      <td>0.001794</td>\n",
       "      <td>0.655420</td>\n",
       "      <td>0.988680</td>\n",
       "    </tr>\n",
       "    <tr>\n",
       "      <th>std</th>\n",
       "      <td>107245.205337</td>\n",
       "      <td>410.012459</td>\n",
       "      <td>144.059326</td>\n",
       "      <td>114.268917</td>\n",
       "      <td>0.088727</td>\n",
       "      <td>119.593888</td>\n",
       "      <td>0.018157</td>\n",
       "      <td>108815.656947</td>\n",
       "      <td>0.053745</td>\n",
       "      <td>17.820778</td>\n",
       "      <td>0.070839</td>\n",
       "      <td>0.062175</td>\n",
       "      <td>0.020456</td>\n",
       "      <td>0.000428</td>\n",
       "      <td>0.094314</td>\n",
       "      <td>0.020473</td>\n",
       "    </tr>\n",
       "    <tr>\n",
       "      <th>min</th>\n",
       "      <td>1987.000000</td>\n",
       "      <td>911.828000</td>\n",
       "      <td>336.722700</td>\n",
       "      <td>2.283200</td>\n",
       "      <td>0.344800</td>\n",
       "      <td>50.298400</td>\n",
       "      <td>0.836600</td>\n",
       "      <td>2257.000000</td>\n",
       "      <td>0.512300</td>\n",
       "      <td>1.065300</td>\n",
       "      <td>0.004800</td>\n",
       "      <td>0.041100</td>\n",
       "      <td>0.001700</td>\n",
       "      <td>0.001100</td>\n",
       "      <td>0.001700</td>\n",
       "      <td>0.756800</td>\n",
       "    </tr>\n",
       "    <tr>\n",
       "      <th>25%</th>\n",
       "      <td>206948.000000</td>\n",
       "      <td>1726.091500</td>\n",
       "      <td>641.068650</td>\n",
       "      <td>404.684375</td>\n",
       "      <td>0.685625</td>\n",
       "      <td>513.317075</td>\n",
       "      <td>0.978825</td>\n",
       "      <td>210022.750000</td>\n",
       "      <td>0.705875</td>\n",
       "      <td>1.373725</td>\n",
       "      <td>0.827750</td>\n",
       "      <td>0.768050</td>\n",
       "      <td>0.002200</td>\n",
       "      <td>0.001500</td>\n",
       "      <td>0.589975</td>\n",
       "      <td>0.989300</td>\n",
       "    </tr>\n",
       "    <tr>\n",
       "      <th>50%</th>\n",
       "      <td>319833.000000</td>\n",
       "      <td>2196.345450</td>\n",
       "      <td>791.363400</td>\n",
       "      <td>495.054850</td>\n",
       "      <td>0.754700</td>\n",
       "      <td>638.140950</td>\n",
       "      <td>0.987300</td>\n",
       "      <td>327207.000000</td>\n",
       "      <td>0.746950</td>\n",
       "      <td>1.524150</td>\n",
       "      <td>0.867750</td>\n",
       "      <td>0.804950</td>\n",
       "      <td>0.002600</td>\n",
       "      <td>0.001600</td>\n",
       "      <td>0.647950</td>\n",
       "      <td>0.993600</td>\n",
       "    </tr>\n",
       "    <tr>\n",
       "      <th>75%</th>\n",
       "      <td>382573.000000</td>\n",
       "      <td>2389.716575</td>\n",
       "      <td>858.633750</td>\n",
       "      <td>589.031700</td>\n",
       "      <td>0.802150</td>\n",
       "      <td>697.930525</td>\n",
       "      <td>0.991800</td>\n",
       "      <td>388804.000000</td>\n",
       "      <td>0.775850</td>\n",
       "      <td>1.674750</td>\n",
       "      <td>0.899500</td>\n",
       "      <td>0.848875</td>\n",
       "      <td>0.003200</td>\n",
       "      <td>0.002075</td>\n",
       "      <td>0.720625</td>\n",
       "      <td>0.996400</td>\n",
       "    </tr>\n",
       "    <tr>\n",
       "      <th>max</th>\n",
       "      <td>546063.000000</td>\n",
       "      <td>2811.997100</td>\n",
       "      <td>1222.723000</td>\n",
       "      <td>766.453600</td>\n",
       "      <td>1.000000</td>\n",
       "      <td>833.827900</td>\n",
       "      <td>0.997400</td>\n",
       "      <td>552598.000000</td>\n",
       "      <td>0.856200</td>\n",
       "      <td>535.525700</td>\n",
       "      <td>0.977300</td>\n",
       "      <td>0.968100</td>\n",
       "      <td>0.615400</td>\n",
       "      <td>0.004300</td>\n",
       "      <td>0.937300</td>\n",
       "      <td>0.999500</td>\n",
       "    </tr>\n",
       "  </tbody>\n",
       "</table>\n",
       "</div>"
      ],
      "text/plain": [
       "                AREA    PERIMETER   MAJOR_AXIS  MINOR_AXIS  ECCENTRICITY  \\\n",
       "count     898.000000   898.000000   898.000000  898.000000    898.000000   \n",
       "mean   298295.207127  2057.660953   750.811994  495.872785      0.737468   \n",
       "std    107245.205337   410.012459   144.059326  114.268917      0.088727   \n",
       "min      1987.000000   911.828000   336.722700    2.283200      0.344800   \n",
       "25%    206948.000000  1726.091500   641.068650  404.684375      0.685625   \n",
       "50%    319833.000000  2196.345450   791.363400  495.054850      0.754700   \n",
       "75%    382573.000000  2389.716575   858.633750  589.031700      0.802150   \n",
       "max    546063.000000  2811.997100  1222.723000  766.453600      1.000000   \n",
       "\n",
       "          EQDIASQ    SOLIDITY    CONVEX_AREA      EXTENT  ASPECT_RATIO  \\\n",
       "count  898.000000  898.000000     898.000000  898.000000    898.000000   \n",
       "mean   604.577938    0.981840  303845.592428    0.736267      2.131102   \n",
       "std    119.593888    0.018157  108815.656947    0.053745     17.820778   \n",
       "min     50.298400    0.836600    2257.000000    0.512300      1.065300   \n",
       "25%    513.317075    0.978825  210022.750000    0.705875      1.373725   \n",
       "50%    638.140950    0.987300  327207.000000    0.746950      1.524150   \n",
       "75%    697.930525    0.991800  388804.000000    0.775850      1.674750   \n",
       "max    833.827900    0.997400  552598.000000    0.856200    535.525700   \n",
       "\n",
       "        ROUNDNESS  COMPACTNESS  SHAPEFACTOR_1  SHAPEFACTOR_2  SHAPEFACTOR_3  \\\n",
       "count  898.000000   898.000000     898.000000     898.000000     898.000000   \n",
       "mean     0.857720     0.807190       0.003428       0.001794       0.655420   \n",
       "std      0.070839     0.062175       0.020456       0.000428       0.094314   \n",
       "min      0.004800     0.041100       0.001700       0.001100       0.001700   \n",
       "25%      0.827750     0.768050       0.002200       0.001500       0.589975   \n",
       "50%      0.867750     0.804950       0.002600       0.001600       0.647950   \n",
       "75%      0.899500     0.848875       0.003200       0.002075       0.720625   \n",
       "max      0.977300     0.968100       0.615400       0.004300       0.937300   \n",
       "\n",
       "       SHAPEFACTOR_4  \n",
       "count     898.000000  \n",
       "mean        0.988680  \n",
       "std         0.020473  \n",
       "min         0.756800  \n",
       "25%         0.989300  \n",
       "50%         0.993600  \n",
       "75%         0.996400  \n",
       "max         0.999500  "
      ]
     },
     "execution_count": 75,
     "metadata": {},
     "output_type": "execute_result"
    }
   ],
   "source": [
    "df.describe()"
   ]
  },
  {
   "cell_type": "code",
   "execution_count": 76,
   "id": "de35a86e",
   "metadata": {},
   "outputs": [
    {
     "data": {
      "text/plain": [
       "AREA             0\n",
       "PERIMETER        0\n",
       "MAJOR_AXIS       0\n",
       "MINOR_AXIS       0\n",
       "ECCENTRICITY     0\n",
       "EQDIASQ          0\n",
       "SOLIDITY         0\n",
       "CONVEX_AREA      0\n",
       "EXTENT           0\n",
       "ASPECT_RATIO     0\n",
       "ROUNDNESS        0\n",
       "COMPACTNESS      0\n",
       "SHAPEFACTOR_1    0\n",
       "SHAPEFACTOR_2    0\n",
       "SHAPEFACTOR_3    0\n",
       "SHAPEFACTOR_4    0\n",
       "Class            0\n",
       "dtype: int64"
      ]
     },
     "execution_count": 76,
     "metadata": {},
     "output_type": "execute_result"
    }
   ],
   "source": [
    "df.isna().sum()"
   ]
  },
  {
   "cell_type": "code",
   "execution_count": 77,
   "id": "eacf1e10",
   "metadata": {},
   "outputs": [],
   "source": [
    "X = df.drop('Class', axis = 1)\n",
    "y = df.Class"
   ]
  },
  {
   "cell_type": "code",
   "execution_count": 78,
   "id": "16c565da",
   "metadata": {},
   "outputs": [
    {
     "data": {
      "text/html": [
       "<div>\n",
       "<style scoped>\n",
       "    .dataframe tbody tr th:only-of-type {\n",
       "        vertical-align: middle;\n",
       "    }\n",
       "\n",
       "    .dataframe tbody tr th {\n",
       "        vertical-align: top;\n",
       "    }\n",
       "\n",
       "    .dataframe thead th {\n",
       "        text-align: right;\n",
       "    }\n",
       "</style>\n",
       "<table border=\"1\" class=\"dataframe\">\n",
       "  <thead>\n",
       "    <tr style=\"text-align: right;\">\n",
       "      <th></th>\n",
       "      <th>AREA</th>\n",
       "      <th>PERIMETER</th>\n",
       "      <th>MAJOR_AXIS</th>\n",
       "      <th>MINOR_AXIS</th>\n",
       "      <th>ECCENTRICITY</th>\n",
       "      <th>EQDIASQ</th>\n",
       "      <th>SOLIDITY</th>\n",
       "      <th>CONVEX_AREA</th>\n",
       "      <th>EXTENT</th>\n",
       "      <th>ASPECT_RATIO</th>\n",
       "      <th>ROUNDNESS</th>\n",
       "      <th>COMPACTNESS</th>\n",
       "      <th>SHAPEFACTOR_1</th>\n",
       "      <th>SHAPEFACTOR_2</th>\n",
       "      <th>SHAPEFACTOR_3</th>\n",
       "      <th>SHAPEFACTOR_4</th>\n",
       "    </tr>\n",
       "  </thead>\n",
       "  <tbody>\n",
       "    <tr>\n",
       "      <th>0</th>\n",
       "      <td>422163</td>\n",
       "      <td>2378.908</td>\n",
       "      <td>837.8484</td>\n",
       "      <td>645.6693</td>\n",
       "      <td>0.6373</td>\n",
       "      <td>733.1539</td>\n",
       "      <td>0.9947</td>\n",
       "      <td>424428</td>\n",
       "      <td>0.7831</td>\n",
       "      <td>1.2976</td>\n",
       "      <td>0.9374</td>\n",
       "      <td>0.8750</td>\n",
       "      <td>0.0020</td>\n",
       "      <td>0.0015</td>\n",
       "      <td>0.7657</td>\n",
       "      <td>0.9936</td>\n",
       "    </tr>\n",
       "    <tr>\n",
       "      <th>1</th>\n",
       "      <td>338136</td>\n",
       "      <td>2085.144</td>\n",
       "      <td>723.8198</td>\n",
       "      <td>595.2073</td>\n",
       "      <td>0.5690</td>\n",
       "      <td>656.1464</td>\n",
       "      <td>0.9974</td>\n",
       "      <td>339014</td>\n",
       "      <td>0.7795</td>\n",
       "      <td>1.2161</td>\n",
       "      <td>0.9773</td>\n",
       "      <td>0.9065</td>\n",
       "      <td>0.0021</td>\n",
       "      <td>0.0018</td>\n",
       "      <td>0.8218</td>\n",
       "      <td>0.9993</td>\n",
       "    </tr>\n",
       "    <tr>\n",
       "      <th>2</th>\n",
       "      <td>526843</td>\n",
       "      <td>2647.394</td>\n",
       "      <td>940.7379</td>\n",
       "      <td>715.3638</td>\n",
       "      <td>0.6494</td>\n",
       "      <td>819.0222</td>\n",
       "      <td>0.9962</td>\n",
       "      <td>528876</td>\n",
       "      <td>0.7657</td>\n",
       "      <td>1.3150</td>\n",
       "      <td>0.9446</td>\n",
       "      <td>0.8706</td>\n",
       "      <td>0.0018</td>\n",
       "      <td>0.0014</td>\n",
       "      <td>0.7580</td>\n",
       "      <td>0.9968</td>\n",
       "    </tr>\n",
       "    <tr>\n",
       "      <th>3</th>\n",
       "      <td>416063</td>\n",
       "      <td>2351.210</td>\n",
       "      <td>827.9804</td>\n",
       "      <td>645.2988</td>\n",
       "      <td>0.6266</td>\n",
       "      <td>727.8378</td>\n",
       "      <td>0.9948</td>\n",
       "      <td>418255</td>\n",
       "      <td>0.7759</td>\n",
       "      <td>1.2831</td>\n",
       "      <td>0.9458</td>\n",
       "      <td>0.8791</td>\n",
       "      <td>0.0020</td>\n",
       "      <td>0.0016</td>\n",
       "      <td>0.7727</td>\n",
       "      <td>0.9915</td>\n",
       "    </tr>\n",
       "    <tr>\n",
       "      <th>4</th>\n",
       "      <td>347562</td>\n",
       "      <td>2160.354</td>\n",
       "      <td>763.9877</td>\n",
       "      <td>582.8359</td>\n",
       "      <td>0.6465</td>\n",
       "      <td>665.2291</td>\n",
       "      <td>0.9908</td>\n",
       "      <td>350797</td>\n",
       "      <td>0.7569</td>\n",
       "      <td>1.3108</td>\n",
       "      <td>0.9358</td>\n",
       "      <td>0.8707</td>\n",
       "      <td>0.0022</td>\n",
       "      <td>0.0017</td>\n",
       "      <td>0.7582</td>\n",
       "      <td>0.9938</td>\n",
       "    </tr>\n",
       "  </tbody>\n",
       "</table>\n",
       "</div>"
      ],
      "text/plain": [
       "     AREA  PERIMETER  MAJOR_AXIS  MINOR_AXIS  ECCENTRICITY   EQDIASQ  \\\n",
       "0  422163   2378.908    837.8484    645.6693        0.6373  733.1539   \n",
       "1  338136   2085.144    723.8198    595.2073        0.5690  656.1464   \n",
       "2  526843   2647.394    940.7379    715.3638        0.6494  819.0222   \n",
       "3  416063   2351.210    827.9804    645.2988        0.6266  727.8378   \n",
       "4  347562   2160.354    763.9877    582.8359        0.6465  665.2291   \n",
       "\n",
       "   SOLIDITY  CONVEX_AREA  EXTENT  ASPECT_RATIO  ROUNDNESS  COMPACTNESS  \\\n",
       "0    0.9947       424428  0.7831        1.2976     0.9374       0.8750   \n",
       "1    0.9974       339014  0.7795        1.2161     0.9773       0.9065   \n",
       "2    0.9962       528876  0.7657        1.3150     0.9446       0.8706   \n",
       "3    0.9948       418255  0.7759        1.2831     0.9458       0.8791   \n",
       "4    0.9908       350797  0.7569        1.3108     0.9358       0.8707   \n",
       "\n",
       "   SHAPEFACTOR_1  SHAPEFACTOR_2  SHAPEFACTOR_3  SHAPEFACTOR_4  \n",
       "0         0.0020         0.0015         0.7657         0.9936  \n",
       "1         0.0021         0.0018         0.8218         0.9993  \n",
       "2         0.0018         0.0014         0.7580         0.9968  \n",
       "3         0.0020         0.0016         0.7727         0.9915  \n",
       "4         0.0022         0.0017         0.7582         0.9938  "
      ]
     },
     "execution_count": 78,
     "metadata": {},
     "output_type": "execute_result"
    }
   ],
   "source": [
    "X.head()"
   ]
  },
  {
   "cell_type": "code",
   "execution_count": 79,
   "id": "187d31a1",
   "metadata": {},
   "outputs": [
    {
     "data": {
      "text/plain": [
       "0    BERHI\n",
       "1    BERHI\n",
       "2    BERHI\n",
       "3    BERHI\n",
       "4    BERHI\n",
       "Name: Class, dtype: object"
      ]
     },
     "execution_count": 79,
     "metadata": {},
     "output_type": "execute_result"
    }
   ],
   "source": [
    "y.head()"
   ]
  },
  {
   "cell_type": "code",
   "execution_count": 80,
   "id": "0db5aec0",
   "metadata": {},
   "outputs": [
    {
     "data": {
      "text/plain": [
       "430     IRAQI\n",
       "754    SAFAVI\n",
       "563    ROTANA\n",
       "321     DOKOL\n",
       "260     DOKOL\n",
       "665    SAFAVI\n",
       "364     DOKOL\n",
       "619    SAFAVI\n",
       "761    SAFAVI\n",
       "587    ROTANA\n",
       "Name: Class, dtype: object"
      ]
     },
     "execution_count": 80,
     "metadata": {},
     "output_type": "execute_result"
    }
   ],
   "source": [
    "y.sample(10)"
   ]
  },
  {
   "cell_type": "code",
   "execution_count": 81,
   "id": "e5a3981e",
   "metadata": {},
   "outputs": [],
   "source": [
    "X_train,X_test,y_train,y_test = train_test_split(X,y, test_size=0.2, stratify=y, random_state=42)"
   ]
  },
  {
   "cell_type": "code",
   "execution_count": 82,
   "id": "690749e7",
   "metadata": {},
   "outputs": [
    {
     "data": {
      "text/plain": [
       "(718, 16)"
      ]
     },
     "execution_count": 82,
     "metadata": {},
     "output_type": "execute_result"
    }
   ],
   "source": [
    "X_train.shape"
   ]
  },
  {
   "cell_type": "code",
   "execution_count": 83,
   "id": "39bd4933",
   "metadata": {},
   "outputs": [
    {
     "data": {
      "text/plain": [
       "(180, 16)"
      ]
     },
     "execution_count": 83,
     "metadata": {},
     "output_type": "execute_result"
    }
   ],
   "source": [
    "X_test.shape"
   ]
  },
  {
   "cell_type": "code",
   "execution_count": 84,
   "id": "242dab12",
   "metadata": {},
   "outputs": [
    {
     "data": {
      "text/plain": [
       "(180,)"
      ]
     },
     "execution_count": 84,
     "metadata": {},
     "output_type": "execute_result"
    }
   ],
   "source": [
    "y_test.shape"
   ]
  },
  {
   "cell_type": "code",
   "execution_count": 85,
   "id": "5caa8a4f",
   "metadata": {},
   "outputs": [
    {
     "data": {
      "text/plain": [
       "(718,)"
      ]
     },
     "execution_count": 85,
     "metadata": {},
     "output_type": "execute_result"
    }
   ],
   "source": [
    "y_train.shape"
   ]
  },
  {
   "cell_type": "code",
   "execution_count": 86,
   "id": "d39a9d00",
   "metadata": {},
   "outputs": [
    {
     "data": {
      "text/plain": [
       "DOKOL     163\n",
       "SAFAVI    159\n",
       "ROTANA    133\n",
       "DEGLET     78\n",
       "SOGAY      75\n",
       "IRAQI      58\n",
       "BERHI      52\n",
       "Name: Class, dtype: int64"
      ]
     },
     "execution_count": 86,
     "metadata": {},
     "output_type": "execute_result"
    }
   ],
   "source": [
    "y_train.value_counts()"
   ]
  },
  {
   "cell_type": "code",
   "execution_count": 87,
   "id": "82e7ae32",
   "metadata": {},
   "outputs": [
    {
     "data": {
      "text/plain": [
       "DOKOL     41\n",
       "SAFAVI    40\n",
       "ROTANA    33\n",
       "DEGLET    20\n",
       "SOGAY     19\n",
       "IRAQI     14\n",
       "BERHI     13\n",
       "Name: Class, dtype: int64"
      ]
     },
     "execution_count": 87,
     "metadata": {},
     "output_type": "execute_result"
    }
   ],
   "source": [
    "y_test.value_counts()"
   ]
  },
  {
   "cell_type": "code",
   "execution_count": 88,
   "id": "b478bb11",
   "metadata": {},
   "outputs": [
    {
     "data": {
      "text/plain": [
       "OneVsOneClassifier(estimator=LogisticRegression(max_iter=1200))"
      ]
     },
     "execution_count": 88,
     "metadata": {},
     "output_type": "execute_result"
    }
   ],
   "source": [
    "clf = LogisticRegression(max_iter=1200)\n",
    "\n",
    "# One vs One Multi Classification\n",
    "ovo = OneVsOneClassifier(clf)\n",
    "ovo.fit(X_train,y_train)"
   ]
  },
  {
   "cell_type": "code",
   "execution_count": 89,
   "id": "9fed1bc6",
   "metadata": {},
   "outputs": [
    {
     "data": {
      "text/plain": [
       "LogisticRegression(max_iter=2000, multi_class='ovr')"
      ]
     },
     "execution_count": 89,
     "metadata": {},
     "output_type": "execute_result"
    }
   ],
   "source": [
    "# One vs Rest Multi Classification\n",
    "ovr = LogisticRegression(multi_class = 'ovr', max_iter=2000)\n",
    "ovr.fit(X_train, y_train)"
   ]
  },
  {
   "cell_type": "code",
   "execution_count": 90,
   "id": "17e18dd4",
   "metadata": {},
   "outputs": [
    {
     "data": {
      "text/plain": [
       "array(['SAFAVI', 'DOKOL', 'SAFAVI', 'DOKOL', 'SOGAY', 'DOKOL', 'ROTANA',\n",
       "       'BERHI', 'DOKOL', 'SAFAVI', 'ROTANA', 'SAFAVI', 'DOKOL', 'ROTANA',\n",
       "       'SAFAVI', 'SAFAVI', 'DEGLET', 'DEGLET', 'DOKOL', 'ROTANA',\n",
       "       'ROTANA', 'SOGAY', 'IRAQI', 'ROTANA', 'ROTANA', 'ROTANA', 'DOKOL',\n",
       "       'DOKOL', 'SAFAVI', 'SOGAY', 'SAFAVI', 'SAFAVI', 'DOKOL', 'ROTANA',\n",
       "       'SOGAY', 'DOKOL', 'SOGAY', 'SAFAVI', 'DOKOL', 'DOKOL', 'DOKOL',\n",
       "       'DOKOL', 'ROTANA', 'ROTANA', 'SAFAVI', 'ROTANA', 'ROTANA', 'DOKOL',\n",
       "       'ROTANA', 'DOKOL', 'DOKOL', 'DEGLET', 'SAFAVI', 'DOKOL', 'DOKOL',\n",
       "       'DOKOL', 'IRAQI', 'DOKOL', 'ROTANA', 'SAFAVI', 'SOGAY', 'DOKOL',\n",
       "       'BERHI', 'DOKOL', 'DEGLET', 'DOKOL', 'ROTANA', 'DOKOL', 'DOKOL',\n",
       "       'ROTANA', 'ROTANA', 'DOKOL', 'ROTANA', 'ROTANA', 'ROTANA', 'IRAQI',\n",
       "       'DOKOL', 'BERHI', 'SAFAVI', 'DOKOL', 'DEGLET', 'DOKOL', 'ROTANA',\n",
       "       'SOGAY', 'ROTANA', 'IRAQI', 'SOGAY', 'SAFAVI', 'SAFAVI', 'ROTANA',\n",
       "       'ROTANA', 'ROTANA', 'SAFAVI', 'IRAQI', 'SAFAVI', 'BERHI', 'IRAQI',\n",
       "       'ROTANA', 'DOKOL', 'ROTANA', 'DOKOL', 'DOKOL', 'BERHI', 'ROTANA',\n",
       "       'SAFAVI', 'DEGLET', 'SAFAVI', 'IRAQI', 'ROTANA', 'SAFAVI', 'SOGAY',\n",
       "       'DEGLET', 'DEGLET', 'SOGAY', 'SAFAVI', 'SAFAVI', 'SAFAVI', 'DOKOL',\n",
       "       'SAFAVI', 'SAFAVI', 'BERHI', 'DOKOL', 'SAFAVI', 'DOKOL', 'DOKOL',\n",
       "       'SAFAVI', 'SOGAY', 'BERHI', 'DEGLET', 'IRAQI', 'DOKOL', 'DOKOL',\n",
       "       'ROTANA', 'SAFAVI', 'DEGLET', 'BERHI', 'DEGLET', 'SAFAVI', 'DOKOL',\n",
       "       'SOGAY', 'SAFAVI', 'DEGLET', 'BERHI', 'SAFAVI', 'BERHI', 'SAFAVI',\n",
       "       'ROTANA', 'DOKOL', 'DEGLET', 'ROTANA', 'SAFAVI', 'IRAQI', 'SAFAVI',\n",
       "       'DEGLET', 'IRAQI', 'SAFAVI', 'SOGAY', 'ROTANA', 'BERHI', 'SAFAVI',\n",
       "       'SOGAY', 'ROTANA', 'DEGLET', 'DOKOL', 'SAFAVI', 'SOGAY', 'IRAQI',\n",
       "       'SOGAY', 'DEGLET', 'DEGLET', 'SAFAVI', 'BERHI', 'ROTANA', 'SAFAVI',\n",
       "       'DEGLET', 'SAFAVI', 'DOKOL', 'IRAQI', 'SOGAY', 'ROTANA'],\n",
       "      dtype=object)"
      ]
     },
     "execution_count": 90,
     "metadata": {},
     "output_type": "execute_result"
    }
   ],
   "source": [
    "y_pred_ovo = ovo.predict(X_test)\n",
    "y_pred_ovo"
   ]
  },
  {
   "cell_type": "code",
   "execution_count": 91,
   "id": "04e38159",
   "metadata": {},
   "outputs": [
    {
     "data": {
      "text/plain": [
       "array(['SAFAVI', 'DOKOL', 'SAFAVI', 'DOKOL', 'SAFAVI', 'DOKOL', 'ROTANA',\n",
       "       'ROTANA', 'DOKOL', 'SAFAVI', 'ROTANA', 'SAFAVI', 'DOKOL', 'ROTANA',\n",
       "       'SAFAVI', 'SAFAVI', 'SAFAVI', 'DEGLET', 'DOKOL', 'SAFAVI',\n",
       "       'ROTANA', 'SAFAVI', 'IRAQI', 'ROTANA', 'ROTANA', 'ROTANA', 'DOKOL',\n",
       "       'DOKOL', 'SAFAVI', 'ROTANA', 'SAFAVI', 'SAFAVI', 'DOKOL', 'ROTANA',\n",
       "       'SOGAY', 'DOKOL', 'ROTANA', 'SAFAVI', 'DOKOL', 'DOKOL', 'DOKOL',\n",
       "       'DOKOL', 'ROTANA', 'ROTANA', 'SAFAVI', 'ROTANA', 'ROTANA', 'DOKOL',\n",
       "       'SAFAVI', 'DOKOL', 'DOKOL', 'DEGLET', 'SAFAVI', 'DOKOL', 'DOKOL',\n",
       "       'DOKOL', 'IRAQI', 'DOKOL', 'ROTANA', 'SAFAVI', 'DEGLET', 'DOKOL',\n",
       "       'ROTANA', 'DOKOL', 'DEGLET', 'DOKOL', 'ROTANA', 'DOKOL', 'DOKOL',\n",
       "       'ROTANA', 'ROTANA', 'DOKOL', 'ROTANA', 'ROTANA', 'ROTANA', 'IRAQI',\n",
       "       'DOKOL', 'BERHI', 'SAFAVI', 'DOKOL', 'DEGLET', 'DOKOL', 'ROTANA',\n",
       "       'DEGLET', 'ROTANA', 'BERHI', 'ROTANA', 'SAFAVI', 'SAFAVI',\n",
       "       'ROTANA', 'SAFAVI', 'ROTANA', 'SAFAVI', 'IRAQI', 'SAFAVI', 'BERHI',\n",
       "       'IRAQI', 'ROTANA', 'DOKOL', 'SAFAVI', 'DOKOL', 'DOKOL', 'ROTANA',\n",
       "       'ROTANA', 'SAFAVI', 'SAFAVI', 'SAFAVI', 'IRAQI', 'ROTANA',\n",
       "       'SAFAVI', 'DEGLET', 'SOGAY', 'DEGLET', 'ROTANA', 'SAFAVI',\n",
       "       'SAFAVI', 'SAFAVI', 'DOKOL', 'SAFAVI', 'SAFAVI', 'BERHI', 'DOKOL',\n",
       "       'SAFAVI', 'DOKOL', 'DOKOL', 'SAFAVI', 'ROTANA', 'BERHI', 'SAFAVI',\n",
       "       'IRAQI', 'DOKOL', 'DOKOL', 'ROTANA', 'SAFAVI', 'DEGLET', 'BERHI',\n",
       "       'DEGLET', 'SAFAVI', 'DOKOL', 'SOGAY', 'SAFAVI', 'SOGAY', 'BERHI',\n",
       "       'SAFAVI', 'BERHI', 'SAFAVI', 'ROTANA', 'DOKOL', 'DEGLET', 'ROTANA',\n",
       "       'SAFAVI', 'IRAQI', 'SAFAVI', 'DOKOL', 'BERHI', 'SAFAVI', 'SOGAY',\n",
       "       'ROTANA', 'IRAQI', 'SAFAVI', 'ROTANA', 'ROTANA', 'DEGLET', 'DOKOL',\n",
       "       'SAFAVI', 'ROTANA', 'BERHI', 'ROTANA', 'DEGLET', 'DOKOL', 'SAFAVI',\n",
       "       'ROTANA', 'ROTANA', 'SAFAVI', 'DEGLET', 'SAFAVI', 'DOKOL', 'IRAQI',\n",
       "       'ROTANA', 'ROTANA'], dtype=object)"
      ]
     },
     "execution_count": 91,
     "metadata": {},
     "output_type": "execute_result"
    }
   ],
   "source": [
    "y_pred_ovr = ovr.predict(X_test)\n",
    "y_pred_ovr"
   ]
  },
  {
   "cell_type": "code",
   "execution_count": 92,
   "id": "09fc84d5",
   "metadata": {},
   "outputs": [
    {
     "data": {
      "text/html": [
       "<div>\n",
       "<style scoped>\n",
       "    .dataframe tbody tr th:only-of-type {\n",
       "        vertical-align: middle;\n",
       "    }\n",
       "\n",
       "    .dataframe tbody tr th {\n",
       "        vertical-align: top;\n",
       "    }\n",
       "\n",
       "    .dataframe thead th {\n",
       "        text-align: right;\n",
       "    }\n",
       "</style>\n",
       "<table border=\"1\" class=\"dataframe\">\n",
       "  <thead>\n",
       "    <tr style=\"text-align: right;\">\n",
       "      <th></th>\n",
       "      <th>One Vs One Prediction</th>\n",
       "    </tr>\n",
       "  </thead>\n",
       "  <tbody>\n",
       "    <tr>\n",
       "      <th>0</th>\n",
       "      <td>SAFAVI</td>\n",
       "    </tr>\n",
       "    <tr>\n",
       "      <th>1</th>\n",
       "      <td>DOKOL</td>\n",
       "    </tr>\n",
       "    <tr>\n",
       "      <th>2</th>\n",
       "      <td>SAFAVI</td>\n",
       "    </tr>\n",
       "    <tr>\n",
       "      <th>3</th>\n",
       "      <td>DOKOL</td>\n",
       "    </tr>\n",
       "    <tr>\n",
       "      <th>4</th>\n",
       "      <td>SOGAY</td>\n",
       "    </tr>\n",
       "  </tbody>\n",
       "</table>\n",
       "</div>"
      ],
      "text/plain": [
       "  One Vs One Prediction\n",
       "0                SAFAVI\n",
       "1                 DOKOL\n",
       "2                SAFAVI\n",
       "3                 DOKOL\n",
       "4                 SOGAY"
      ]
     },
     "execution_count": 92,
     "metadata": {},
     "output_type": "execute_result"
    }
   ],
   "source": [
    "y_pred_ovo_df = pd.DataFrame(y_pred_ovo, columns = ['One Vs One Prediction'])\n",
    "y_pred_ovo_df.head()"
   ]
  },
  {
   "cell_type": "code",
   "execution_count": 93,
   "id": "16cdd99d",
   "metadata": {},
   "outputs": [
    {
     "data": {
      "text/html": [
       "<div>\n",
       "<style scoped>\n",
       "    .dataframe tbody tr th:only-of-type {\n",
       "        vertical-align: middle;\n",
       "    }\n",
       "\n",
       "    .dataframe tbody tr th {\n",
       "        vertical-align: top;\n",
       "    }\n",
       "\n",
       "    .dataframe thead th {\n",
       "        text-align: right;\n",
       "    }\n",
       "</style>\n",
       "<table border=\"1\" class=\"dataframe\">\n",
       "  <thead>\n",
       "    <tr style=\"text-align: right;\">\n",
       "      <th></th>\n",
       "      <th>One Vs Rest Prediction</th>\n",
       "    </tr>\n",
       "  </thead>\n",
       "  <tbody>\n",
       "    <tr>\n",
       "      <th>0</th>\n",
       "      <td>SAFAVI</td>\n",
       "    </tr>\n",
       "    <tr>\n",
       "      <th>1</th>\n",
       "      <td>DOKOL</td>\n",
       "    </tr>\n",
       "    <tr>\n",
       "      <th>2</th>\n",
       "      <td>SAFAVI</td>\n",
       "    </tr>\n",
       "    <tr>\n",
       "      <th>3</th>\n",
       "      <td>DOKOL</td>\n",
       "    </tr>\n",
       "    <tr>\n",
       "      <th>4</th>\n",
       "      <td>SAFAVI</td>\n",
       "    </tr>\n",
       "  </tbody>\n",
       "</table>\n",
       "</div>"
      ],
      "text/plain": [
       "  One Vs Rest Prediction\n",
       "0                 SAFAVI\n",
       "1                  DOKOL\n",
       "2                 SAFAVI\n",
       "3                  DOKOL\n",
       "4                 SAFAVI"
      ]
     },
     "execution_count": 93,
     "metadata": {},
     "output_type": "execute_result"
    }
   ],
   "source": [
    "y_pred_ovr_df = pd.DataFrame(y_pred_ovr, columns = ['One Vs Rest Prediction'])\n",
    "y_pred_ovr_df.head()"
   ]
  },
  {
   "cell_type": "code",
   "execution_count": 94,
   "id": "4b445912",
   "metadata": {},
   "outputs": [
    {
     "data": {
      "text/html": [
       "<div>\n",
       "<style scoped>\n",
       "    .dataframe tbody tr th:only-of-type {\n",
       "        vertical-align: middle;\n",
       "    }\n",
       "\n",
       "    .dataframe tbody tr th {\n",
       "        vertical-align: top;\n",
       "    }\n",
       "\n",
       "    .dataframe thead th {\n",
       "        text-align: right;\n",
       "    }\n",
       "</style>\n",
       "<table border=\"1\" class=\"dataframe\">\n",
       "  <thead>\n",
       "    <tr style=\"text-align: right;\">\n",
       "      <th></th>\n",
       "      <th>Class</th>\n",
       "    </tr>\n",
       "  </thead>\n",
       "  <tbody>\n",
       "    <tr>\n",
       "      <th>722</th>\n",
       "      <td>SAFAVI</td>\n",
       "    </tr>\n",
       "    <tr>\n",
       "      <th>329</th>\n",
       "      <td>DOKOL</td>\n",
       "    </tr>\n",
       "    <tr>\n",
       "      <th>768</th>\n",
       "      <td>SAFAVI</td>\n",
       "    </tr>\n",
       "    <tr>\n",
       "      <th>291</th>\n",
       "      <td>DOKOL</td>\n",
       "    </tr>\n",
       "    <tr>\n",
       "      <th>665</th>\n",
       "      <td>SAFAVI</td>\n",
       "    </tr>\n",
       "  </tbody>\n",
       "</table>\n",
       "</div>"
      ],
      "text/plain": [
       "      Class\n",
       "722  SAFAVI\n",
       "329   DOKOL\n",
       "768  SAFAVI\n",
       "291   DOKOL\n",
       "665  SAFAVI"
      ]
     },
     "execution_count": 94,
     "metadata": {},
     "output_type": "execute_result"
    }
   ],
   "source": [
    "y_test_df = pd.DataFrame(y_test)\n",
    "y_test_df.head()"
   ]
  },
  {
   "cell_type": "code",
   "execution_count": 95,
   "id": "89535222",
   "metadata": {},
   "outputs": [
    {
     "data": {
      "text/html": [
       "<div>\n",
       "<style scoped>\n",
       "    .dataframe tbody tr th:only-of-type {\n",
       "        vertical-align: middle;\n",
       "    }\n",
       "\n",
       "    .dataframe tbody tr th {\n",
       "        vertical-align: top;\n",
       "    }\n",
       "\n",
       "    .dataframe thead th {\n",
       "        text-align: right;\n",
       "    }\n",
       "</style>\n",
       "<table border=\"1\" class=\"dataframe\">\n",
       "  <thead>\n",
       "    <tr style=\"text-align: right;\">\n",
       "      <th></th>\n",
       "      <th>Class</th>\n",
       "    </tr>\n",
       "  </thead>\n",
       "  <tbody>\n",
       "    <tr>\n",
       "      <th>0</th>\n",
       "      <td>SAFAVI</td>\n",
       "    </tr>\n",
       "    <tr>\n",
       "      <th>1</th>\n",
       "      <td>DOKOL</td>\n",
       "    </tr>\n",
       "    <tr>\n",
       "      <th>2</th>\n",
       "      <td>SAFAVI</td>\n",
       "    </tr>\n",
       "    <tr>\n",
       "      <th>3</th>\n",
       "      <td>DOKOL</td>\n",
       "    </tr>\n",
       "    <tr>\n",
       "      <th>4</th>\n",
       "      <td>SAFAVI</td>\n",
       "    </tr>\n",
       "  </tbody>\n",
       "</table>\n",
       "</div>"
      ],
      "text/plain": [
       "    Class\n",
       "0  SAFAVI\n",
       "1   DOKOL\n",
       "2  SAFAVI\n",
       "3   DOKOL\n",
       "4  SAFAVI"
      ]
     },
     "execution_count": 95,
     "metadata": {},
     "output_type": "execute_result"
    }
   ],
   "source": [
    "y_test_df = y_test_df.reset_index(drop= True)\n",
    "y_test_df.head()"
   ]
  },
  {
   "cell_type": "code",
   "execution_count": 96,
   "id": "520aaa67",
   "metadata": {},
   "outputs": [
    {
     "data": {
      "text/html": [
       "<div>\n",
       "<style scoped>\n",
       "    .dataframe tbody tr th:only-of-type {\n",
       "        vertical-align: middle;\n",
       "    }\n",
       "\n",
       "    .dataframe tbody tr th {\n",
       "        vertical-align: top;\n",
       "    }\n",
       "\n",
       "    .dataframe thead th {\n",
       "        text-align: right;\n",
       "    }\n",
       "</style>\n",
       "<table border=\"1\" class=\"dataframe\">\n",
       "  <thead>\n",
       "    <tr style=\"text-align: right;\">\n",
       "      <th></th>\n",
       "      <th>One Vs Rest Prediction</th>\n",
       "      <th>One Vs One Prediction</th>\n",
       "      <th>Class</th>\n",
       "    </tr>\n",
       "  </thead>\n",
       "  <tbody>\n",
       "    <tr>\n",
       "      <th>0</th>\n",
       "      <td>SAFAVI</td>\n",
       "      <td>SAFAVI</td>\n",
       "      <td>SAFAVI</td>\n",
       "    </tr>\n",
       "    <tr>\n",
       "      <th>1</th>\n",
       "      <td>DOKOL</td>\n",
       "      <td>DOKOL</td>\n",
       "      <td>DOKOL</td>\n",
       "    </tr>\n",
       "    <tr>\n",
       "      <th>2</th>\n",
       "      <td>SAFAVI</td>\n",
       "      <td>SAFAVI</td>\n",
       "      <td>SAFAVI</td>\n",
       "    </tr>\n",
       "    <tr>\n",
       "      <th>3</th>\n",
       "      <td>DOKOL</td>\n",
       "      <td>DOKOL</td>\n",
       "      <td>DOKOL</td>\n",
       "    </tr>\n",
       "    <tr>\n",
       "      <th>4</th>\n",
       "      <td>SAFAVI</td>\n",
       "      <td>SOGAY</td>\n",
       "      <td>SAFAVI</td>\n",
       "    </tr>\n",
       "    <tr>\n",
       "      <th>...</th>\n",
       "      <td>...</td>\n",
       "      <td>...</td>\n",
       "      <td>...</td>\n",
       "    </tr>\n",
       "    <tr>\n",
       "      <th>175</th>\n",
       "      <td>SAFAVI</td>\n",
       "      <td>SAFAVI</td>\n",
       "      <td>SAFAVI</td>\n",
       "    </tr>\n",
       "    <tr>\n",
       "      <th>176</th>\n",
       "      <td>DOKOL</td>\n",
       "      <td>DOKOL</td>\n",
       "      <td>DEGLET</td>\n",
       "    </tr>\n",
       "    <tr>\n",
       "      <th>177</th>\n",
       "      <td>IRAQI</td>\n",
       "      <td>IRAQI</td>\n",
       "      <td>BERHI</td>\n",
       "    </tr>\n",
       "    <tr>\n",
       "      <th>178</th>\n",
       "      <td>ROTANA</td>\n",
       "      <td>SOGAY</td>\n",
       "      <td>SAFAVI</td>\n",
       "    </tr>\n",
       "    <tr>\n",
       "      <th>179</th>\n",
       "      <td>ROTANA</td>\n",
       "      <td>ROTANA</td>\n",
       "      <td>SOGAY</td>\n",
       "    </tr>\n",
       "  </tbody>\n",
       "</table>\n",
       "<p>180 rows × 3 columns</p>\n",
       "</div>"
      ],
      "text/plain": [
       "    One Vs Rest Prediction One Vs One Prediction   Class\n",
       "0                   SAFAVI                SAFAVI  SAFAVI\n",
       "1                    DOKOL                 DOKOL   DOKOL\n",
       "2                   SAFAVI                SAFAVI  SAFAVI\n",
       "3                    DOKOL                 DOKOL   DOKOL\n",
       "4                   SAFAVI                 SOGAY  SAFAVI\n",
       "..                     ...                   ...     ...\n",
       "175                 SAFAVI                SAFAVI  SAFAVI\n",
       "176                  DOKOL                 DOKOL  DEGLET\n",
       "177                  IRAQI                 IRAQI   BERHI\n",
       "178                 ROTANA                 SOGAY  SAFAVI\n",
       "179                 ROTANA                ROTANA   SOGAY\n",
       "\n",
       "[180 rows x 3 columns]"
      ]
     },
     "execution_count": 96,
     "metadata": {},
     "output_type": "execute_result"
    }
   ],
   "source": [
    "result_df = pd.concat([y_pred_ovr_df,y_pred_ovo_df,y_test_df], axis = 1)\n",
    "result_df"
   ]
  },
  {
   "cell_type": "code",
   "execution_count": 97,
   "id": "f84c977d",
   "metadata": {},
   "outputs": [
    {
     "data": {
      "text/plain": [
       "array([[ 8,  0,  0,  5,  0,  0,  0],\n",
       "       [ 0, 11,  3,  0,  0,  2,  4],\n",
       "       [ 0,  2, 39,  0,  0,  0,  0],\n",
       "       [ 4,  0,  0,  6,  4,  0,  0],\n",
       "       [ 0,  0,  0,  1, 29,  0,  3],\n",
       "       [ 0,  0,  0,  0,  2, 35,  3],\n",
       "       [ 0,  5,  1,  0,  2,  4,  7]], dtype=int64)"
      ]
     },
     "execution_count": 97,
     "metadata": {},
     "output_type": "execute_result"
    }
   ],
   "source": [
    "from sklearn.metrics import confusion_matrix\n",
    "\n",
    "confusion_matrix(y_test, y_pred_ovo)"
   ]
  },
  {
   "cell_type": "code",
   "execution_count": 98,
   "id": "023df86c",
   "metadata": {},
   "outputs": [
    {
     "data": {
      "image/png": "[encoded data removed]",
      "text/plain": [
       "<Figure size 432x288 with 2 Axes>"
      ]
     },
     "metadata": {
      "needs_background": "light"
     },
     "output_type": "display_data"
    }
   ],
   "source": [
    "import seaborn as sns\n",
    "\n",
    "data = {'y_Actual': y_test, 'y_Predicted': y_pred_ovo}\n",
    "\n",
    "df = pd.DataFrame(data, columns = ['y_Actual','y_Predicted'])\n",
    "\n",
    "clf_confusion_matrix = pd.crosstab(df['y_Predicted'], df['y_Actual'], rownames = ['Predicted'], colnames=['Actual'])\n",
    "\n",
    "sns.heatmap(clf_confusion_matrix, annot=True)\n",
    "plt.savefig('heatmap3.png')"
   ]
  },
  {
   "cell_type": "code",
   "execution_count": 99,
   "id": "6c797270",
   "metadata": {},
   "outputs": [
    {
     "data": {
      "image/png": "[encoded data removed]",
      "text/plain": [
       "<Figure size 432x288 with 2 Axes>"
      ]
     },
     "metadata": {
      "needs_background": "light"
     },
     "output_type": "display_data"
    }
   ],
   "source": [
    "import seaborn as sns\n",
    "\n",
    "data = {'y_Actual': y_test, 'y_Predicted': y_pred_ovr}\n",
    "\n",
    "df = pd.DataFrame(data, columns = ['y_Actual','y_Predicted'])\n",
    "\n",
    "clf_confusion_matrix = pd.crosstab(df['y_Predicted'], df['y_Actual'], rownames = ['Predicted'], colnames=['Actual'])\n",
    "\n",
    "sns.heatmap(clf_confusion_matrix, annot=True)\n",
    "plt.savefig('heatmap4.png')"
   ]
  },
  {
   "cell_type": "code",
   "execution_count": 104,
   "id": "ea28543f",
   "metadata": {},
   "outputs": [
    {
     "data": {
      "text/html": [
       "<div>\n",
       "<style scoped>\n",
       "    .dataframe tbody tr th:only-of-type {\n",
       "        vertical-align: middle;\n",
       "    }\n",
       "\n",
       "    .dataframe tbody tr th {\n",
       "        vertical-align: top;\n",
       "    }\n",
       "\n",
       "    .dataframe thead th {\n",
       "        text-align: right;\n",
       "    }\n",
       "</style>\n",
       "<table border=\"1\" class=\"dataframe\">\n",
       "  <thead>\n",
       "    <tr style=\"text-align: right;\">\n",
       "      <th></th>\n",
       "      <th>One Vs Rest Prediction</th>\n",
       "      <th>One Vs One Prediction</th>\n",
       "      <th>Class</th>\n",
       "    </tr>\n",
       "  </thead>\n",
       "  <tbody>\n",
       "    <tr>\n",
       "      <th>0</th>\n",
       "      <td>SAFAVI</td>\n",
       "      <td>SAFAVI</td>\n",
       "      <td>SAFAVI</td>\n",
       "    </tr>\n",
       "    <tr>\n",
       "      <th>1</th>\n",
       "      <td>DOKOL</td>\n",
       "      <td>DOKOL</td>\n",
       "      <td>DOKOL</td>\n",
       "    </tr>\n",
       "    <tr>\n",
       "      <th>2</th>\n",
       "      <td>SAFAVI</td>\n",
       "      <td>SAFAVI</td>\n",
       "      <td>SAFAVI</td>\n",
       "    </tr>\n",
       "    <tr>\n",
       "      <th>3</th>\n",
       "      <td>DOKOL</td>\n",
       "      <td>DOKOL</td>\n",
       "      <td>DOKOL</td>\n",
       "    </tr>\n",
       "    <tr>\n",
       "      <th>4</th>\n",
       "      <td>SAFAVI</td>\n",
       "      <td>SOGAY</td>\n",
       "      <td>SAFAVI</td>\n",
       "    </tr>\n",
       "  </tbody>\n",
       "</table>\n",
       "</div>"
      ],
      "text/plain": [
       "  One Vs Rest Prediction One Vs One Prediction   Class\n",
       "0                 SAFAVI                SAFAVI  SAFAVI\n",
       "1                  DOKOL                 DOKOL   DOKOL\n",
       "2                 SAFAVI                SAFAVI  SAFAVI\n",
       "3                  DOKOL                 DOKOL   DOKOL\n",
       "4                 SAFAVI                 SOGAY  SAFAVI"
      ]
     },
     "execution_count": 104,
     "metadata": {},
     "output_type": "execute_result"
    }
   ],
   "source": [
    "result_df = pd.concat([y_pred_ovr_df,y_pred_ovo_df,y_test_df], axis = 1)\n",
    "result_df.to_csv('Fruit Predicted Classes Using OVR and OVO Approach.csv')\n",
    "result_df.head()"
   ]
  },
  {
   "cell_type": "code",
   "execution_count": 105,
   "id": "025a001f",
   "metadata": {},
   "outputs": [
    {
     "name": "stdout",
     "output_type": "stream",
     "text": [
      "Accuracy=  71.66666666666667 %\n"
     ]
    }
   ],
   "source": [
    "print(\"Accuracy= \",accuracy_score(y_test,y_pred_ovr)*100,\"%\")"
   ]
  },
  {
   "cell_type": "code",
   "execution_count": 106,
   "id": "6e6b7b13",
   "metadata": {},
   "outputs": [
    {
     "name": "stdout",
     "output_type": "stream",
     "text": [
      "Accuracy=  75.0 %\n"
     ]
    }
   ],
   "source": [
    "print(\"Accuracy= \",accuracy_score(y_test,y_pred_ovo)*100,\"%\")"
   ]
  },
  {
   "cell_type": "code",
   "execution_count": 107,
   "id": "683d1ddb",
   "metadata": {},
   "outputs": [
    {
     "data": {
      "text/plain": [
       "['fruit_one_vs_one_classifier.pkl']"
      ]
     },
     "execution_count": 107,
     "metadata": {},
     "output_type": "execute_result"
    }
   ],
   "source": [
    "joblib.dump(ovo, 'fruit_one_vs_one_classifier.pkl')"
   ]
  },
  {
   "cell_type": "code",
   "execution_count": null,
   "id": "46fbab79",
   "metadata": {},
   "outputs": [],
   "source": []
  },
  {
   "cell_type": "code",
   "execution_count": null,
   "id": "d6f17b35",
   "metadata": {},
   "outputs": [],
   "source": []
  },
  {
   "cell_type": "code",
   "execution_count": null,
   "id": "4d84acf1",
   "metadata": {},
   "outputs": [],
   "source": []
  }
 ],
 "metadata": {
  "kernelspec": {
   "display_name": "Python 3 (ipykernel)",
   "language": "python",
   "name": "python3"
  },
  "language_info": {
   "codemirror_mode": {
    "name": "ipython",
    "version": 3
   },
   "file_extension": ".py",
   "mimetype": "text/x-python",
   "name": "python",
   "nbconvert_exporter": "python",
   "pygments_lexer": "ipython3",
   "version": "3.9.7"
  }
 },
 "nbformat": 4,
 "nbformat_minor": 5
}
